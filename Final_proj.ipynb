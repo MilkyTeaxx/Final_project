{
 "cells": [
  {
   "cell_type": "markdown",
   "id": "1b57be58-b2b2-4f01-b20e-3224a83d3724",
   "metadata": {},
   "source": [
    "<font size=\"6\">**DSCI100 Group24 Project Report - Predicting Heart Disease**</font>"
   ]
  },
  {
   "cell_type": "markdown",
   "id": "a91c0fc5-4d88-4190-b377-da945d41c455",
   "metadata": {},
   "source": [
    "<br><font size=\"4\">**Introduction:**</font>\n",
    "<br>\n",
    "<br>Heart disease is the leading cause of death worldwide, accounting for a significant portion of global mortality. It is a complex condition influenced by numerous factors, including genetics, lifestyle, and environmental aspects. Early detection and prevention of heart disease are crucial for reducing its impact on public health. Some key risk factors associated with heart disease include age, chest pain, and serum cholesterol levels. Heart disease is a serious issue affecting many people worldwide. There are several types of heart disease, including Blood vessel diseases, such as coronary artery disease, Irregular heartbeats, congenital heart defects, disease of the heart muscle, and heart valve disease (Mayo Clinic, 2022).\n",
    "\n",
    "In this study, we will explore and predict if a person has heart disease, given their attributes. We will be trying to answer the question: Can we predict the presence of heart disease in individuals using age, chest pain, and serum cholesterol levels?\n",
    "\n",
    "The dataset used in this project contains information on individuals with and without heart disease. It consists of several variables: age, chest pain type, and serum cholesterol in mg/dl. The dataset comprises the following columns:\n",
    "1. age: The age of the individual in years (numeric).\n",
    "2. cp: The type of chest pain experienced by the individual, represented as a numerical value <br>(1: typical angina, 2: atypical angina, 3: non-anginal pain, 4: asymptomatic).\n",
    "3. chol: The individual's serum cholesterol level in mg/dl (numeric).\n",
    "4. heart_disease: The diagnosis of heart disease (angiographic disease status)<br>(0: indicates the absence of heart disease, 1: indicates the presence of heart disease, 2: indicates the presence of heart disease, 3: indicates the presence of heart disease).\n",
    "\n",
    "This dataset will be used to train and test a classification model to predict the presence of heart disease based on the chosen predictors.\n",
    "\n",
    "<img src=\"download.jpeg\" width = \"400\"/>\n",
    "<img src=\"hd.jpg\" width = \"400\"/>"
   ]
  },
  {
   "cell_type": "markdown",
   "id": "490e75b6-fcde-46d0-a3e5-2288755e5561",
   "metadata": {},
   "source": [
    "<br>We will use the following packages to analyze our dataset:"
   ]
  },
  {
   "cell_type": "code",
   "execution_count": 1,
   "id": "4167f042-ef5c-4024-aa2d-c438f4cb156e",
   "metadata": {},
   "outputs": [
    {
     "name": "stderr",
     "output_type": "stream",
     "text": [
      "── \u001b[1mAttaching packages\u001b[22m ─────────────────────────────────────── tidyverse 1.3.1 ──\n",
      "\n",
      "\u001b[32m✔\u001b[39m \u001b[34mggplot2\u001b[39m 3.3.6     \u001b[32m✔\u001b[39m \u001b[34mpurrr  \u001b[39m 0.3.4\n",
      "\u001b[32m✔\u001b[39m \u001b[34mtibble \u001b[39m 3.1.7     \u001b[32m✔\u001b[39m \u001b[34mdplyr  \u001b[39m 1.0.9\n",
      "\u001b[32m✔\u001b[39m \u001b[34mtidyr  \u001b[39m 1.2.0     \u001b[32m✔\u001b[39m \u001b[34mstringr\u001b[39m 1.4.0\n",
      "\u001b[32m✔\u001b[39m \u001b[34mreadr  \u001b[39m 2.1.2     \u001b[32m✔\u001b[39m \u001b[34mforcats\u001b[39m 0.5.1\n",
      "\n",
      "── \u001b[1mConflicts\u001b[22m ────────────────────────────────────────── tidyverse_conflicts() ──\n",
      "\u001b[31m✖\u001b[39m \u001b[34mdplyr\u001b[39m::\u001b[32mfilter()\u001b[39m masks \u001b[34mstats\u001b[39m::filter()\n",
      "\u001b[31m✖\u001b[39m \u001b[34mdplyr\u001b[39m::\u001b[32mlag()\u001b[39m    masks \u001b[34mstats\u001b[39m::lag()\n",
      "\n",
      "── \u001b[1mAttaching packages\u001b[22m ────────────────────────────────────── tidymodels 1.0.0 ──\n",
      "\n",
      "\u001b[32m✔\u001b[39m \u001b[34mbroom       \u001b[39m 1.0.0     \u001b[32m✔\u001b[39m \u001b[34mrsample     \u001b[39m 1.0.0\n",
      "\u001b[32m✔\u001b[39m \u001b[34mdials       \u001b[39m 1.0.0     \u001b[32m✔\u001b[39m \u001b[34mtune        \u001b[39m 1.0.0\n",
      "\u001b[32m✔\u001b[39m \u001b[34minfer       \u001b[39m 1.0.2     \u001b[32m✔\u001b[39m \u001b[34mworkflows   \u001b[39m 1.0.0\n",
      "\u001b[32m✔\u001b[39m \u001b[34mmodeldata   \u001b[39m 1.0.0     \u001b[32m✔\u001b[39m \u001b[34mworkflowsets\u001b[39m 1.0.0\n",
      "\u001b[32m✔\u001b[39m \u001b[34mparsnip     \u001b[39m 1.0.0     \u001b[32m✔\u001b[39m \u001b[34myardstick   \u001b[39m 1.0.0\n",
      "\u001b[32m✔\u001b[39m \u001b[34mrecipes     \u001b[39m 1.0.1     \n",
      "\n",
      "── \u001b[1mConflicts\u001b[22m ───────────────────────────────────────── tidymodels_conflicts() ──\n",
      "\u001b[31m✖\u001b[39m \u001b[34mscales\u001b[39m::\u001b[32mdiscard()\u001b[39m masks \u001b[34mpurrr\u001b[39m::discard()\n",
      "\u001b[31m✖\u001b[39m \u001b[34mdplyr\u001b[39m::\u001b[32mfilter()\u001b[39m   masks \u001b[34mstats\u001b[39m::filter()\n",
      "\u001b[31m✖\u001b[39m \u001b[34mrecipes\u001b[39m::\u001b[32mfixed()\u001b[39m  masks \u001b[34mstringr\u001b[39m::fixed()\n",
      "\u001b[31m✖\u001b[39m \u001b[34mdplyr\u001b[39m::\u001b[32mlag()\u001b[39m      masks \u001b[34mstats\u001b[39m::lag()\n",
      "\u001b[31m✖\u001b[39m \u001b[34myardstick\u001b[39m::\u001b[32mspec()\u001b[39m masks \u001b[34mreadr\u001b[39m::spec()\n",
      "\u001b[31m✖\u001b[39m \u001b[34mrecipes\u001b[39m::\u001b[32mstep()\u001b[39m   masks \u001b[34mstats\u001b[39m::step()\n",
      "\u001b[34m•\u001b[39m Learn how to get started at \u001b[32mhttps://www.tidymodels.org/start/\u001b[39m\n",
      "\n",
      "Registered S3 method overwritten by 'GGally':\n",
      "  method from   \n",
      "  +.gg   ggplot2\n",
      "\n"
     ]
    }
   ],
   "source": [
    "library(tidyverse)\n",
    "library(tidymodels)\n",
    "library(repr)\n",
    "library(digest)\n",
    "library(GGally)\n",
    "library(ISLR)\n",
    "options(repr.matrix.max.rows = 10)"
   ]
  },
  {
   "cell_type": "markdown",
   "id": "bb59ddf5-c441-4ddf-a9e5-6eccfda91444",
   "metadata": {},
   "source": [
    "<font size=\"4\">**Methods:**</font>"
   ]
  },
  {
   "cell_type": "markdown",
   "id": "4e52e962-3170-4dd2-bdd6-36cf285d335e",
   "metadata": {},
   "source": [
    "We will be setting the seed to 1 to make sure our results are reproducible:"
   ]
  },
  {
   "cell_type": "code",
   "execution_count": 2,
   "id": "91b8ed8b-3f41-481c-a32a-147707a89829",
   "metadata": {},
   "outputs": [],
   "source": [
    "set.seed(1)"
   ]
  },
  {
   "cell_type": "markdown",
   "id": "f02c95c4-a3cb-40d7-b40b-a7cad9aace3e",
   "metadata": {},
   "source": [
    "<font size=\"3\">**Loading, Wrangling and Cleaning:**</font>"
   ]
  },
  {
   "cell_type": "code",
   "execution_count": 3,
   "id": "913d4c9b-d550-4161-afbd-e4ea953c41d0",
   "metadata": {},
   "outputs": [
    {
     "name": "stderr",
     "output_type": "stream",
     "text": [
      "\u001b[1mRows: \u001b[22m\u001b[34m303\u001b[39m \u001b[1mColumns: \u001b[22m\u001b[34m14\u001b[39m\n",
      "\u001b[36m──\u001b[39m \u001b[1mColumn specification\u001b[22m \u001b[36m────────────────────────────────────────────────────────\u001b[39m\n",
      "\u001b[1mDelimiter:\u001b[22m \",\"\n",
      "\u001b[31mchr\u001b[39m  (2): ca, thal\n",
      "\u001b[32mdbl\u001b[39m (12): age, sex, cp, trestbps, chol, fbs, restecg, thalach, exang, oldpea...\n",
      "\n",
      "\u001b[36mℹ\u001b[39m Use `spec()` to retrieve the full column specification for this data.\n",
      "\u001b[36mℹ\u001b[39m Specify the column types or set `show_col_types = FALSE` to quiet this message.\n"
     ]
    },
    {
     "name": "stdout",
     "output_type": "stream",
     "text": [
      "[1] \"Table 1: The dataset used in this data analysis.\"\n"
     ]
    },
    {
     "data": {
      "text/html": [
       "<table class=\"dataframe\">\n",
       "<caption>A tibble: 303 × 14</caption>\n",
       "<thead>\n",
       "\t<tr><th scope=col>age</th><th scope=col>sex</th><th scope=col>cp</th><th scope=col>trestbps</th><th scope=col>chol</th><th scope=col>fbs</th><th scope=col>restecg</th><th scope=col>thalach</th><th scope=col>exang</th><th scope=col>oldpeak</th><th scope=col>slope</th><th scope=col>ca</th><th scope=col>thal</th><th scope=col>heart_disease</th></tr>\n",
       "\t<tr><th scope=col>&lt;dbl&gt;</th><th scope=col>&lt;dbl&gt;</th><th scope=col>&lt;dbl&gt;</th><th scope=col>&lt;dbl&gt;</th><th scope=col>&lt;dbl&gt;</th><th scope=col>&lt;dbl&gt;</th><th scope=col>&lt;dbl&gt;</th><th scope=col>&lt;dbl&gt;</th><th scope=col>&lt;dbl&gt;</th><th scope=col>&lt;dbl&gt;</th><th scope=col>&lt;dbl&gt;</th><th scope=col>&lt;chr&gt;</th><th scope=col>&lt;chr&gt;</th><th scope=col>&lt;chr&gt;</th></tr>\n",
       "</thead>\n",
       "<tbody>\n",
       "\t<tr><td>63</td><td>1</td><td>1</td><td>145</td><td>233</td><td>1</td><td>2</td><td>150</td><td>0</td><td>2.3</td><td>3</td><td>0.0</td><td>6.0</td><td>absent  </td></tr>\n",
       "\t<tr><td>67</td><td>1</td><td>4</td><td>160</td><td>286</td><td>0</td><td>2</td><td>108</td><td>1</td><td>1.5</td><td>2</td><td>3.0</td><td>3.0</td><td>presence</td></tr>\n",
       "\t<tr><td>67</td><td>1</td><td>4</td><td>120</td><td>229</td><td>0</td><td>2</td><td>129</td><td>1</td><td>2.6</td><td>2</td><td>2.0</td><td>7.0</td><td>presence</td></tr>\n",
       "\t<tr><td>37</td><td>1</td><td>3</td><td>130</td><td>250</td><td>0</td><td>0</td><td>187</td><td>0</td><td>3.5</td><td>3</td><td>0.0</td><td>3.0</td><td>absent  </td></tr>\n",
       "\t<tr><td>41</td><td>0</td><td>2</td><td>130</td><td>204</td><td>0</td><td>2</td><td>172</td><td>0</td><td>1.4</td><td>1</td><td>0.0</td><td>3.0</td><td>absent  </td></tr>\n",
       "\t<tr><td>⋮</td><td>⋮</td><td>⋮</td><td>⋮</td><td>⋮</td><td>⋮</td><td>⋮</td><td>⋮</td><td>⋮</td><td>⋮</td><td>⋮</td><td>⋮</td><td>⋮</td><td>⋮</td></tr>\n",
       "\t<tr><td>45</td><td>1</td><td>1</td><td>110</td><td>264</td><td>0</td><td>0</td><td>132</td><td>0</td><td>1.2</td><td>2</td><td>0.0</td><td>7.0</td><td>presence</td></tr>\n",
       "\t<tr><td>68</td><td>1</td><td>4</td><td>144</td><td>193</td><td>1</td><td>0</td><td>141</td><td>0</td><td>3.4</td><td>2</td><td>2.0</td><td>7.0</td><td>presence</td></tr>\n",
       "\t<tr><td>57</td><td>1</td><td>4</td><td>130</td><td>131</td><td>0</td><td>0</td><td>115</td><td>1</td><td>1.2</td><td>2</td><td>1.0</td><td>7.0</td><td>presence</td></tr>\n",
       "\t<tr><td>57</td><td>0</td><td>2</td><td>130</td><td>236</td><td>0</td><td>2</td><td>174</td><td>0</td><td>0.0</td><td>2</td><td>1.0</td><td>3.0</td><td>presence</td></tr>\n",
       "\t<tr><td>38</td><td>1</td><td>3</td><td>138</td><td>175</td><td>0</td><td>0</td><td>173</td><td>0</td><td>0.0</td><td>1</td><td>?  </td><td>3.0</td><td>absent  </td></tr>\n",
       "</tbody>\n",
       "</table>\n"
      ],
      "text/latex": [
       "A tibble: 303 × 14\n",
       "\\begin{tabular}{llllllllllllll}\n",
       " age & sex & cp & trestbps & chol & fbs & restecg & thalach & exang & oldpeak & slope & ca & thal & heart\\_disease\\\\\n",
       " <dbl> & <dbl> & <dbl> & <dbl> & <dbl> & <dbl> & <dbl> & <dbl> & <dbl> & <dbl> & <dbl> & <chr> & <chr> & <chr>\\\\\n",
       "\\hline\n",
       "\t 63 & 1 & 1 & 145 & 233 & 1 & 2 & 150 & 0 & 2.3 & 3 & 0.0 & 6.0 & absent  \\\\\n",
       "\t 67 & 1 & 4 & 160 & 286 & 0 & 2 & 108 & 1 & 1.5 & 2 & 3.0 & 3.0 & presence\\\\\n",
       "\t 67 & 1 & 4 & 120 & 229 & 0 & 2 & 129 & 1 & 2.6 & 2 & 2.0 & 7.0 & presence\\\\\n",
       "\t 37 & 1 & 3 & 130 & 250 & 0 & 0 & 187 & 0 & 3.5 & 3 & 0.0 & 3.0 & absent  \\\\\n",
       "\t 41 & 0 & 2 & 130 & 204 & 0 & 2 & 172 & 0 & 1.4 & 1 & 0.0 & 3.0 & absent  \\\\\n",
       "\t ⋮ & ⋮ & ⋮ & ⋮ & ⋮ & ⋮ & ⋮ & ⋮ & ⋮ & ⋮ & ⋮ & ⋮ & ⋮ & ⋮\\\\\n",
       "\t 45 & 1 & 1 & 110 & 264 & 0 & 0 & 132 & 0 & 1.2 & 2 & 0.0 & 7.0 & presence\\\\\n",
       "\t 68 & 1 & 4 & 144 & 193 & 1 & 0 & 141 & 0 & 3.4 & 2 & 2.0 & 7.0 & presence\\\\\n",
       "\t 57 & 1 & 4 & 130 & 131 & 0 & 0 & 115 & 1 & 1.2 & 2 & 1.0 & 7.0 & presence\\\\\n",
       "\t 57 & 0 & 2 & 130 & 236 & 0 & 2 & 174 & 0 & 0.0 & 2 & 1.0 & 3.0 & presence\\\\\n",
       "\t 38 & 1 & 3 & 138 & 175 & 0 & 0 & 173 & 0 & 0.0 & 1 & ?   & 3.0 & absent  \\\\\n",
       "\\end{tabular}\n"
      ],
      "text/markdown": [
       "\n",
       "A tibble: 303 × 14\n",
       "\n",
       "| age &lt;dbl&gt; | sex &lt;dbl&gt; | cp &lt;dbl&gt; | trestbps &lt;dbl&gt; | chol &lt;dbl&gt; | fbs &lt;dbl&gt; | restecg &lt;dbl&gt; | thalach &lt;dbl&gt; | exang &lt;dbl&gt; | oldpeak &lt;dbl&gt; | slope &lt;dbl&gt; | ca &lt;chr&gt; | thal &lt;chr&gt; | heart_disease &lt;chr&gt; |\n",
       "|---|---|---|---|---|---|---|---|---|---|---|---|---|---|\n",
       "| 63 | 1 | 1 | 145 | 233 | 1 | 2 | 150 | 0 | 2.3 | 3 | 0.0 | 6.0 | absent   |\n",
       "| 67 | 1 | 4 | 160 | 286 | 0 | 2 | 108 | 1 | 1.5 | 2 | 3.0 | 3.0 | presence |\n",
       "| 67 | 1 | 4 | 120 | 229 | 0 | 2 | 129 | 1 | 2.6 | 2 | 2.0 | 7.0 | presence |\n",
       "| 37 | 1 | 3 | 130 | 250 | 0 | 0 | 187 | 0 | 3.5 | 3 | 0.0 | 3.0 | absent   |\n",
       "| 41 | 0 | 2 | 130 | 204 | 0 | 2 | 172 | 0 | 1.4 | 1 | 0.0 | 3.0 | absent   |\n",
       "| ⋮ | ⋮ | ⋮ | ⋮ | ⋮ | ⋮ | ⋮ | ⋮ | ⋮ | ⋮ | ⋮ | ⋮ | ⋮ | ⋮ |\n",
       "| 45 | 1 | 1 | 110 | 264 | 0 | 0 | 132 | 0 | 1.2 | 2 | 0.0 | 7.0 | presence |\n",
       "| 68 | 1 | 4 | 144 | 193 | 1 | 0 | 141 | 0 | 3.4 | 2 | 2.0 | 7.0 | presence |\n",
       "| 57 | 1 | 4 | 130 | 131 | 0 | 0 | 115 | 1 | 1.2 | 2 | 1.0 | 7.0 | presence |\n",
       "| 57 | 0 | 2 | 130 | 236 | 0 | 2 | 174 | 0 | 0.0 | 2 | 1.0 | 3.0 | presence |\n",
       "| 38 | 1 | 3 | 138 | 175 | 0 | 0 | 173 | 0 | 0.0 | 1 | ?   | 3.0 | absent   |\n",
       "\n"
      ],
      "text/plain": [
       "    age sex cp trestbps chol fbs restecg thalach exang oldpeak slope ca  thal\n",
       "1   63  1   1  145      233  1   2       150     0     2.3     3     0.0 6.0 \n",
       "2   67  1   4  160      286  0   2       108     1     1.5     2     3.0 3.0 \n",
       "3   67  1   4  120      229  0   2       129     1     2.6     2     2.0 7.0 \n",
       "4   37  1   3  130      250  0   0       187     0     3.5     3     0.0 3.0 \n",
       "5   41  0   2  130      204  0   2       172     0     1.4     1     0.0 3.0 \n",
       "⋮   ⋮   ⋮   ⋮  ⋮        ⋮    ⋮   ⋮       ⋮       ⋮     ⋮       ⋮     ⋮   ⋮   \n",
       "299 45  1   1  110      264  0   0       132     0     1.2     2     0.0 7.0 \n",
       "300 68  1   4  144      193  1   0       141     0     3.4     2     2.0 7.0 \n",
       "301 57  1   4  130      131  0   0       115     1     1.2     2     1.0 7.0 \n",
       "302 57  0   2  130      236  0   2       174     0     0.0     2     1.0 3.0 \n",
       "303 38  1   3  138      175  0   0       173     0     0.0     1     ?   3.0 \n",
       "    heart_disease\n",
       "1   absent       \n",
       "2   presence     \n",
       "3   presence     \n",
       "4   absent       \n",
       "5   absent       \n",
       "⋮   ⋮            \n",
       "299 presence     \n",
       "300 presence     \n",
       "301 presence     \n",
       "302 presence     \n",
       "303 absent       "
      ]
     },
     "metadata": {},
     "output_type": "display_data"
    }
   ],
   "source": [
    "data <- read_csv(\"https://archive.ics.uci.edu/ml/machine-learning-databases/heart-disease/processed.cleveland.data\", col_names=c(\"age\",\"sex\",\"cp\",\"trestbps\",\"chol\",\"fbs\",\"restecg\",\"thalach\",\"exang\",\"oldpeak\",\"slope\",\"ca\",\"thal\",\"num\"))\n",
    "\n",
    "data_mutated = data |>\n",
    "  mutate(heart_disease = case_when(num == 0 ~ \"absent\",\n",
    "                                   num == 1 ~ \"presence\",\n",
    "                                   num == 2 ~ \"presence\",\n",
    "                                   num == 3 ~ \"presence\")) |> \n",
    "select(-num)\n",
    "\n",
    "print(\"Table 1: The dataset used in this data analysis.\")\n",
    "data_mutated"
   ]
  },
  {
   "cell_type": "markdown",
   "id": "55a6c068-7793-4661-a07c-b72adaddec9a",
   "metadata": {},
   "source": [
    "We have mutated the data so that in the num column, which is the diagnosis of heart disease, 0 will equal no heart disease, and any other number will be changed to equal having heart disease. "
   ]
  },
  {
   "cell_type": "markdown",
   "id": "9b03cf57-b474-499c-8d63-b3249c402481",
   "metadata": {},
   "source": [
    "We will use classification to predict whether or not age, chest pain type, cholesterol, and maximum heart rate are predictors of heart disease.\n"
   ]
  },
  {
   "cell_type": "code",
   "execution_count": 4,
   "id": "ea616662-2701-4ef0-a9f6-cdcdff9bd430",
   "metadata": {},
   "outputs": [
    {
     "name": "stdout",
     "output_type": "stream",
     "text": [
      "[1] \"Table 2: The dataset used for data analysis after wrangling and cleaning.\"\n"
     ]
    },
    {
     "data": {
      "text/html": [
       "<table class=\"dataframe\">\n",
       "<caption>A tibble: 290 × 4</caption>\n",
       "<thead>\n",
       "\t<tr><th scope=col>age</th><th scope=col>cp</th><th scope=col>chol</th><th scope=col>heart_disease</th></tr>\n",
       "\t<tr><th scope=col>&lt;dbl&gt;</th><th scope=col>&lt;dbl&gt;</th><th scope=col>&lt;dbl&gt;</th><th scope=col>&lt;fct&gt;</th></tr>\n",
       "</thead>\n",
       "<tbody>\n",
       "\t<tr><td>63</td><td>1</td><td>233</td><td>absent  </td></tr>\n",
       "\t<tr><td>67</td><td>4</td><td>286</td><td>presence</td></tr>\n",
       "\t<tr><td>67</td><td>4</td><td>229</td><td>presence</td></tr>\n",
       "\t<tr><td>37</td><td>3</td><td>250</td><td>absent  </td></tr>\n",
       "\t<tr><td>41</td><td>2</td><td>204</td><td>absent  </td></tr>\n",
       "\t<tr><td>⋮</td><td>⋮</td><td>⋮</td><td>⋮</td></tr>\n",
       "\t<tr><td>45</td><td>1</td><td>264</td><td>presence</td></tr>\n",
       "\t<tr><td>68</td><td>4</td><td>193</td><td>presence</td></tr>\n",
       "\t<tr><td>57</td><td>4</td><td>131</td><td>presence</td></tr>\n",
       "\t<tr><td>57</td><td>2</td><td>236</td><td>presence</td></tr>\n",
       "\t<tr><td>38</td><td>3</td><td>175</td><td>absent  </td></tr>\n",
       "</tbody>\n",
       "</table>\n"
      ],
      "text/latex": [
       "A tibble: 290 × 4\n",
       "\\begin{tabular}{llll}\n",
       " age & cp & chol & heart\\_disease\\\\\n",
       " <dbl> & <dbl> & <dbl> & <fct>\\\\\n",
       "\\hline\n",
       "\t 63 & 1 & 233 & absent  \\\\\n",
       "\t 67 & 4 & 286 & presence\\\\\n",
       "\t 67 & 4 & 229 & presence\\\\\n",
       "\t 37 & 3 & 250 & absent  \\\\\n",
       "\t 41 & 2 & 204 & absent  \\\\\n",
       "\t ⋮ & ⋮ & ⋮ & ⋮\\\\\n",
       "\t 45 & 1 & 264 & presence\\\\\n",
       "\t 68 & 4 & 193 & presence\\\\\n",
       "\t 57 & 4 & 131 & presence\\\\\n",
       "\t 57 & 2 & 236 & presence\\\\\n",
       "\t 38 & 3 & 175 & absent  \\\\\n",
       "\\end{tabular}\n"
      ],
      "text/markdown": [
       "\n",
       "A tibble: 290 × 4\n",
       "\n",
       "| age &lt;dbl&gt; | cp &lt;dbl&gt; | chol &lt;dbl&gt; | heart_disease &lt;fct&gt; |\n",
       "|---|---|---|---|\n",
       "| 63 | 1 | 233 | absent   |\n",
       "| 67 | 4 | 286 | presence |\n",
       "| 67 | 4 | 229 | presence |\n",
       "| 37 | 3 | 250 | absent   |\n",
       "| 41 | 2 | 204 | absent   |\n",
       "| ⋮ | ⋮ | ⋮ | ⋮ |\n",
       "| 45 | 1 | 264 | presence |\n",
       "| 68 | 4 | 193 | presence |\n",
       "| 57 | 4 | 131 | presence |\n",
       "| 57 | 2 | 236 | presence |\n",
       "| 38 | 3 | 175 | absent   |\n",
       "\n"
      ],
      "text/plain": [
       "    age cp chol heart_disease\n",
       "1   63  1  233  absent       \n",
       "2   67  4  286  presence     \n",
       "3   67  4  229  presence     \n",
       "4   37  3  250  absent       \n",
       "5   41  2  204  absent       \n",
       "⋮   ⋮   ⋮  ⋮    ⋮            \n",
       "286 45  1  264  presence     \n",
       "287 68  4  193  presence     \n",
       "288 57  4  131  presence     \n",
       "289 57  2  236  presence     \n",
       "290 38  3  175  absent       "
      ]
     },
     "metadata": {},
     "output_type": "display_data"
    }
   ],
   "source": [
    "data_clean <- data_mutated |>\n",
    "  mutate(heart_disease = as.factor(heart_disease)) |>\n",
    "  select(age,cp,chol,heart_disease) |>\n",
    "  filter(!is.na(heart_disease))\n",
    "\n",
    "print(\"Table 2: The dataset used for data analysis after wrangling and cleaning.\")\n",
    "data_clean"
   ]
  },
  {
   "cell_type": "markdown",
   "id": "25747e52-fdc3-4499-8a26-62d6af1bcc39",
   "metadata": {},
   "source": [
    "We have cleaned and wrangled the data by selecting the columns we will use for classification. Also, we deleted the observations, which is NA for heart_disease."
   ]
  },
  {
   "cell_type": "markdown",
   "id": "1a24c0c5-5db5-42ca-af39-4f9ec726afd8",
   "metadata": {},
   "source": [
    "<font size=\"3\">**Training and Testing Data:**</font>"
   ]
  },
  {
   "cell_type": "markdown",
   "id": "bed814f5-4478-414a-b271-b6f7c9c5c90b",
   "metadata": {},
   "source": [
    "Here we are spliting the data into training and testing data sets. We do this to use the training set to “train” the classifier. Then, we can use the classifier to make predictions on new data. We will need to scale the data to ensure all data observations are comparable and contribute equal shares to calculating the distance between points (Tiffany Timbers, 2022). We chose 75% for the training set and 25% for the testing set because it provides a good balance of training the model and evaluating the model."
   ]
  },
  {
   "cell_type": "code",
   "execution_count": 5,
   "id": "3e1216e4-b2ba-4fe1-b975-b9cc080cc88f",
   "metadata": {},
   "outputs": [],
   "source": [
    "heart_split <- initial_split(data_clean, prop = 0.75, strata=heart_disease)\n",
    "heart_train <- training(heart_split)\n",
    "heart_test <- testing(heart_split)"
   ]
  },
  {
   "cell_type": "markdown",
   "id": "b5ae830b-4b97-4177-97ea-c94fd42ee6ff",
   "metadata": {},
   "source": [
    "The following two table shows the number of observations in each class, as well as the mean, max, min, sd, median of each predictors."
   ]
  },
  {
   "cell_type": "code",
   "execution_count": 6,
   "id": "2fd670eb-9ed1-430b-8d60-9a9621c3d0aa",
   "metadata": {},
   "outputs": [
    {
     "name": "stdout",
     "output_type": "stream",
     "text": [
      "[1] \"Table 3: All summary vlaues grouped by absent and presence of heart disease.\"\n"
     ]
    },
    {
     "data": {
      "text/html": [
       "<table class=\"dataframe\">\n",
       "<caption>A tibble: 2 × 17</caption>\n",
       "<thead>\n",
       "\t<tr><th scope=col>heart_disease</th><th scope=col>total</th><th scope=col>age_max</th><th scope=col>age_min</th><th scope=col>age_sd</th><th scope=col>age_n</th><th scope=col>age_median</th><th scope=col>cp_max</th><th scope=col>cp_min</th><th scope=col>cp_sd</th><th scope=col>cp_n</th><th scope=col>cp_median</th><th scope=col>chol_max</th><th scope=col>chol_min</th><th scope=col>chol_sd</th><th scope=col>chol_n</th><th scope=col>chol_median</th></tr>\n",
       "\t<tr><th scope=col>&lt;fct&gt;</th><th scope=col>&lt;int&gt;</th><th scope=col>&lt;dbl&gt;</th><th scope=col>&lt;dbl&gt;</th><th scope=col>&lt;dbl&gt;</th><th scope=col>&lt;int&gt;</th><th scope=col>&lt;dbl&gt;</th><th scope=col>&lt;dbl&gt;</th><th scope=col>&lt;dbl&gt;</th><th scope=col>&lt;dbl&gt;</th><th scope=col>&lt;int&gt;</th><th scope=col>&lt;dbl&gt;</th><th scope=col>&lt;dbl&gt;</th><th scope=col>&lt;dbl&gt;</th><th scope=col>&lt;dbl&gt;</th><th scope=col>&lt;int&gt;</th><th scope=col>&lt;dbl&gt;</th></tr>\n",
       "</thead>\n",
       "<tbody>\n",
       "\t<tr><td>absent  </td><td>123</td><td>76</td><td>29</td><td>9.805431</td><td>123</td><td>53</td><td>4</td><td>1</td><td>0.9772161</td><td>123</td><td>3</td><td>417</td><td>157</td><td>46.16418</td><td>123</td><td>235</td></tr>\n",
       "\t<tr><td>presence</td><td> 94</td><td>70</td><td>35</td><td>7.620045</td><td> 94</td><td>57</td><td>4</td><td>1</td><td>0.7940525</td><td> 94</td><td>4</td><td>409</td><td>131</td><td>50.77960</td><td> 94</td><td>249</td></tr>\n",
       "</tbody>\n",
       "</table>\n"
      ],
      "text/latex": [
       "A tibble: 2 × 17\n",
       "\\begin{tabular}{lllllllllllllllll}\n",
       " heart\\_disease & total & age\\_max & age\\_min & age\\_sd & age\\_n & age\\_median & cp\\_max & cp\\_min & cp\\_sd & cp\\_n & cp\\_median & chol\\_max & chol\\_min & chol\\_sd & chol\\_n & chol\\_median\\\\\n",
       " <fct> & <int> & <dbl> & <dbl> & <dbl> & <int> & <dbl> & <dbl> & <dbl> & <dbl> & <int> & <dbl> & <dbl> & <dbl> & <dbl> & <int> & <dbl>\\\\\n",
       "\\hline\n",
       "\t absent   & 123 & 76 & 29 & 9.805431 & 123 & 53 & 4 & 1 & 0.9772161 & 123 & 3 & 417 & 157 & 46.16418 & 123 & 235\\\\\n",
       "\t presence &  94 & 70 & 35 & 7.620045 &  94 & 57 & 4 & 1 & 0.7940525 &  94 & 4 & 409 & 131 & 50.77960 &  94 & 249\\\\\n",
       "\\end{tabular}\n"
      ],
      "text/markdown": [
       "\n",
       "A tibble: 2 × 17\n",
       "\n",
       "| heart_disease &lt;fct&gt; | total &lt;int&gt; | age_max &lt;dbl&gt; | age_min &lt;dbl&gt; | age_sd &lt;dbl&gt; | age_n &lt;int&gt; | age_median &lt;dbl&gt; | cp_max &lt;dbl&gt; | cp_min &lt;dbl&gt; | cp_sd &lt;dbl&gt; | cp_n &lt;int&gt; | cp_median &lt;dbl&gt; | chol_max &lt;dbl&gt; | chol_min &lt;dbl&gt; | chol_sd &lt;dbl&gt; | chol_n &lt;int&gt; | chol_median &lt;dbl&gt; |\n",
       "|---|---|---|---|---|---|---|---|---|---|---|---|---|---|---|---|---|\n",
       "| absent   | 123 | 76 | 29 | 9.805431 | 123 | 53 | 4 | 1 | 0.9772161 | 123 | 3 | 417 | 157 | 46.16418 | 123 | 235 |\n",
       "| presence |  94 | 70 | 35 | 7.620045 |  94 | 57 | 4 | 1 | 0.7940525 |  94 | 4 | 409 | 131 | 50.77960 |  94 | 249 |\n",
       "\n"
      ],
      "text/plain": [
       "  heart_disease total age_max age_min age_sd   age_n age_median cp_max cp_min\n",
       "1 absent        123   76      29      9.805431 123   53         4      1     \n",
       "2 presence       94   70      35      7.620045  94   57         4      1     \n",
       "  cp_sd     cp_n cp_median chol_max chol_min chol_sd  chol_n chol_median\n",
       "1 0.9772161 123  3         417      157      46.16418 123    235        \n",
       "2 0.7940525  94  4         409      131      50.77960  94    249        "
      ]
     },
     "metadata": {},
     "output_type": "display_data"
    },
    {
     "name": "stdout",
     "output_type": "stream",
     "text": [
      "[1] \"Table 4: All summary values for total.\"\n"
     ]
    },
    {
     "data": {
      "text/html": [
       "<table class=\"dataframe\">\n",
       "<caption>A tibble: 1 × 16</caption>\n",
       "<thead>\n",
       "\t<tr><th scope=col>total</th><th scope=col>age_max</th><th scope=col>age_min</th><th scope=col>age_sd</th><th scope=col>age_n</th><th scope=col>age_median</th><th scope=col>cp_max</th><th scope=col>cp_min</th><th scope=col>cp_sd</th><th scope=col>cp_n</th><th scope=col>cp_median</th><th scope=col>chol_max</th><th scope=col>chol_min</th><th scope=col>chol_sd</th><th scope=col>chol_n</th><th scope=col>chol_median</th></tr>\n",
       "\t<tr><th scope=col>&lt;int&gt;</th><th scope=col>&lt;dbl&gt;</th><th scope=col>&lt;dbl&gt;</th><th scope=col>&lt;dbl&gt;</th><th scope=col>&lt;int&gt;</th><th scope=col>&lt;dbl&gt;</th><th scope=col>&lt;dbl&gt;</th><th scope=col>&lt;dbl&gt;</th><th scope=col>&lt;dbl&gt;</th><th scope=col>&lt;int&gt;</th><th scope=col>&lt;dbl&gt;</th><th scope=col>&lt;dbl&gt;</th><th scope=col>&lt;dbl&gt;</th><th scope=col>&lt;dbl&gt;</th><th scope=col>&lt;int&gt;</th><th scope=col>&lt;dbl&gt;</th></tr>\n",
       "</thead>\n",
       "<tbody>\n",
       "\t<tr><td>217</td><td>76</td><td>29</td><td>9.007528</td><td>217</td><td>55</td><td>4</td><td>1</td><td>0.985667</td><td>217</td><td>3</td><td>417</td><td>131</td><td>48.1769</td><td>217</td><td>240</td></tr>\n",
       "</tbody>\n",
       "</table>\n"
      ],
      "text/latex": [
       "A tibble: 1 × 16\n",
       "\\begin{tabular}{llllllllllllllll}\n",
       " total & age\\_max & age\\_min & age\\_sd & age\\_n & age\\_median & cp\\_max & cp\\_min & cp\\_sd & cp\\_n & cp\\_median & chol\\_max & chol\\_min & chol\\_sd & chol\\_n & chol\\_median\\\\\n",
       " <int> & <dbl> & <dbl> & <dbl> & <int> & <dbl> & <dbl> & <dbl> & <dbl> & <int> & <dbl> & <dbl> & <dbl> & <dbl> & <int> & <dbl>\\\\\n",
       "\\hline\n",
       "\t 217 & 76 & 29 & 9.007528 & 217 & 55 & 4 & 1 & 0.985667 & 217 & 3 & 417 & 131 & 48.1769 & 217 & 240\\\\\n",
       "\\end{tabular}\n"
      ],
      "text/markdown": [
       "\n",
       "A tibble: 1 × 16\n",
       "\n",
       "| total &lt;int&gt; | age_max &lt;dbl&gt; | age_min &lt;dbl&gt; | age_sd &lt;dbl&gt; | age_n &lt;int&gt; | age_median &lt;dbl&gt; | cp_max &lt;dbl&gt; | cp_min &lt;dbl&gt; | cp_sd &lt;dbl&gt; | cp_n &lt;int&gt; | cp_median &lt;dbl&gt; | chol_max &lt;dbl&gt; | chol_min &lt;dbl&gt; | chol_sd &lt;dbl&gt; | chol_n &lt;int&gt; | chol_median &lt;dbl&gt; |\n",
       "|---|---|---|---|---|---|---|---|---|---|---|---|---|---|---|---|\n",
       "| 217 | 76 | 29 | 9.007528 | 217 | 55 | 4 | 1 | 0.985667 | 217 | 3 | 417 | 131 | 48.1769 | 217 | 240 |\n",
       "\n"
      ],
      "text/plain": [
       "  total age_max age_min age_sd   age_n age_median cp_max cp_min cp_sd    cp_n\n",
       "1 217   76      29      9.007528 217   55         4      1      0.985667 217 \n",
       "  cp_median chol_max chol_min chol_sd chol_n chol_median\n",
       "1 3         417      131      48.1769 217    240        "
      ]
     },
     "metadata": {},
     "output_type": "display_data"
    }
   ],
   "source": [
    "summary_table_individual <- heart_train |>\n",
    "  group_by(heart_disease) |>\n",
    "  summarise(total = n(),\n",
    "    age_max = max(age, na.rm = TRUE),\n",
    "    age_min = min(age, na.rm = TRUE),\n",
    "    age_sd = sd(age, na.rm = TRUE),\n",
    "    age_n = sum(!is.na(age)),\n",
    "    age_median = median(age, na.rm = TRUE),\n",
    "    \n",
    "    cp_max = max(cp, na.rm = TRUE),\n",
    "    cp_min = min(cp, na.rm = TRUE),\n",
    "    cp_sd = sd(cp, na.rm = TRUE),\n",
    "    cp_n = sum(!is.na(cp)),\n",
    "    cp_median = median(cp, na.rm = TRUE),\n",
    "    \n",
    "    chol_max = max(chol, na.rm = TRUE),\n",
    "    chol_min = min(chol, na.rm = TRUE),\n",
    "    chol_sd = sd(chol, na.rm = TRUE),\n",
    "    chol_n = sum(!is.na(chol)),\n",
    "    chol_median = median(chol, na.rm = TRUE))\n",
    "\n",
    "print(\"Table 3: All summary vlaues grouped by absent and presence of heart disease.\")\n",
    "summary_table_individual\n",
    "\n",
    "summary_table_total <- heart_train |>\n",
    "  summarise(total = n(),\n",
    "    age_max = max(age, na.rm = TRUE),\n",
    "    age_min = min(age, na.rm = TRUE),\n",
    "    age_sd = sd(age, na.rm = TRUE),\n",
    "    age_n = sum(!is.na(age)),\n",
    "    age_median = median(age, na.rm = TRUE),\n",
    "    \n",
    "    cp_max = max(cp, na.rm = TRUE),\n",
    "    cp_min = min(cp, na.rm = TRUE),\n",
    "    cp_sd = sd(cp, na.rm = TRUE),\n",
    "    cp_n = sum(!is.na(cp)),\n",
    "    cp_median = median(cp, na.rm = TRUE),\n",
    "    \n",
    "    chol_max = max(chol, na.rm = TRUE),\n",
    "    chol_min = min(chol, na.rm = TRUE),\n",
    "    chol_sd = sd(chol, na.rm = TRUE),\n",
    "    chol_n = sum(!is.na(chol)),\n",
    "    chol_median = median(chol, na.rm = TRUE))\n",
    "\n",
    "print(\"Table 4: All summary values for total.\")\n",
    "summary_table_total "
   ]
  },
  {
   "cell_type": "markdown",
   "id": "f034c2b0-ecb3-425e-ac09-3f30c64a01c8",
   "metadata": {},
   "source": [
    "The following graphs show the relationship between the predictors and outcome. As we can see, when a person is experiencing asymptomatic chest pain, it's most likely he has a heart disease presence."
   ]
  },
  {
   "cell_type": "code",
   "execution_count": 7,
   "id": "a73615f7-695f-44ef-9313-64d4fe5b92bb",
   "metadata": {},
   "outputs": [
    {
     "data": {
      "image/png": "[encoded data removed]",
      "text/plain": [
       "plot without title"
      ]
     },
     "metadata": {
      "image/png": {
       "height": 420,
       "width": 420
      }
     },
     "output_type": "display_data"
    }
   ],
   "source": [
    "scatter_plot_faceted <- ggplot(heart_train, aes(x = age, y = chol, color = heart_disease)) +\n",
    "  geom_point() +\n",
    "  labs(title = \"Figure 1: Scatter plot of Age vs. Cholesterol\",\n",
    "       x = \"Age\",\n",
    "       y = \"Serum Cholesterol (mg/dl)\") +\n",
    "  facet_wrap(~ cp)\n",
    "\n",
    "scatter_plot_faceted"
   ]
  },
  {
   "cell_type": "markdown",
   "id": "d25c1086-825a-49f6-b583-9cf9cc96dcff",
   "metadata": {},
   "source": [
    "<font size=\"3\">**Finding K Value:**</font>"
   ]
  },
  {
   "cell_type": "markdown",
   "id": "e8edf3f2-ec29-4f2a-b1da-e1a4eb22b10a",
   "metadata": {},
   "source": [
    "We first created a heart_recipe that defines a recipe for predicting heart_disease based on the age, chol, and cp variables. The recipe includes steps to scale and center all predictor variables to make sure they are standardized; this ensures all data observations will be on a comparable scale and contribute equal shares to the calculation of the distance between points. We also created a 5-fold cross-validation object (training_vfold) to perform cross-validation on the training dataset (heart_train). The cross-validation is stratified based on the heart_disease variable to ensure each fold has a similar distribution of heart disease cases. We chose v = 5 because it leads to a faster compuation time."
   ]
  },
  {
   "cell_type": "code",
   "execution_count": 8,
   "id": "b09a1a7a-4a29-4ba6-a3a7-8486b9f1bb0c",
   "metadata": {},
   "outputs": [],
   "source": [
    "heart_recipe <- recipe(heart_disease ~ age + chol + cp, data = heart_train) |>\n",
    "  step_scale(all_predictors()) |>\n",
    "  step_center(all_predictors())\n",
    "\n",
    "training_vfold <- vfold_cv(heart_train, v = 5,strata = heart_disease)"
   ]
  },
  {
   "cell_type": "markdown",
   "id": "f10801b1-efa1-4539-9453-049c712fef06",
   "metadata": {},
   "source": [
    "Next, we put everything into a workflow to see the number of k-neighbors that give us the best accuracy. We will find the nearest or most similar observations in our training set, which we can use to predict if the patient has heart disease (Tiffany Timbers, 2022). "
   ]
  },
  {
   "cell_type": "code",
   "execution_count": 15,
   "id": "836750b8-050e-4e0f-9107-ccf6db080546",
   "metadata": {},
   "outputs": [
    {
     "name": "stdout",
     "output_type": "stream",
     "text": [
      "[1] \"Table 5\"\n"
     ]
    },
    {
     "data": {
      "text/html": [
       "<table class=\"dataframe\">\n",
       "<caption>A tibble: 20 × 7</caption>\n",
       "<thead>\n",
       "\t<tr><th scope=col>neighbors</th><th scope=col>.metric</th><th scope=col>.estimator</th><th scope=col>mean</th><th scope=col>n</th><th scope=col>std_err</th><th scope=col>.config</th></tr>\n",
       "\t<tr><th scope=col>&lt;dbl&gt;</th><th scope=col>&lt;chr&gt;</th><th scope=col>&lt;chr&gt;</th><th scope=col>&lt;dbl&gt;</th><th scope=col>&lt;int&gt;</th><th scope=col>&lt;dbl&gt;</th><th scope=col>&lt;chr&gt;</th></tr>\n",
       "</thead>\n",
       "<tbody>\n",
       "\t<tr><td>16</td><td>accuracy</td><td>binary</td><td>0.7324927</td><td>5</td><td>0.01293799</td><td>Preprocessor1_Model04</td></tr>\n",
       "\t<tr><td>21</td><td>accuracy</td><td>binary</td><td>0.7142001</td><td>5</td><td>0.02170714</td><td>Preprocessor1_Model05</td></tr>\n",
       "\t<tr><td>11</td><td>accuracy</td><td>binary</td><td>0.7139887</td><td>5</td><td>0.01965400</td><td>Preprocessor1_Model03</td></tr>\n",
       "\t<tr><td>26</td><td>accuracy</td><td>binary</td><td>0.7053206</td><td>5</td><td>0.03763576</td><td>Preprocessor1_Model06</td></tr>\n",
       "\t<tr><td>31</td><td>accuracy</td><td>binary</td><td>0.6911507</td><td>5</td><td>0.02399278</td><td>Preprocessor1_Model07</td></tr>\n",
       "\t<tr><td>⋮</td><td>⋮</td><td>⋮</td><td>⋮</td><td>⋮</td><td>⋮</td><td>⋮</td></tr>\n",
       "\t<tr><td>76</td><td>accuracy</td><td>binary</td><td>0.6680006</td><td>5</td><td>0.01265056</td><td>Preprocessor1_Model16</td></tr>\n",
       "\t<tr><td>56</td><td>accuracy</td><td>binary</td><td>0.6635558</td><td>5</td><td>0.02379876</td><td>Preprocessor1_Model12</td></tr>\n",
       "\t<tr><td>61</td><td>accuracy</td><td>binary</td><td>0.6546864</td><td>5</td><td>0.01746116</td><td>Preprocessor1_Model13</td></tr>\n",
       "\t<tr><td>66</td><td>accuracy</td><td>binary</td><td>0.6499245</td><td>5</td><td>0.01399062</td><td>Preprocessor1_Model14</td></tr>\n",
       "\t<tr><td> 1</td><td>accuracy</td><td>binary</td><td>0.6366153</td><td>5</td><td>0.01933288</td><td>Preprocessor1_Model01</td></tr>\n",
       "</tbody>\n",
       "</table>\n"
      ],
      "text/latex": [
       "A tibble: 20 × 7\n",
       "\\begin{tabular}{lllllll}\n",
       " neighbors & .metric & .estimator & mean & n & std\\_err & .config\\\\\n",
       " <dbl> & <chr> & <chr> & <dbl> & <int> & <dbl> & <chr>\\\\\n",
       "\\hline\n",
       "\t 16 & accuracy & binary & 0.7324927 & 5 & 0.01293799 & Preprocessor1\\_Model04\\\\\n",
       "\t 21 & accuracy & binary & 0.7142001 & 5 & 0.02170714 & Preprocessor1\\_Model05\\\\\n",
       "\t 11 & accuracy & binary & 0.7139887 & 5 & 0.01965400 & Preprocessor1\\_Model03\\\\\n",
       "\t 26 & accuracy & binary & 0.7053206 & 5 & 0.03763576 & Preprocessor1\\_Model06\\\\\n",
       "\t 31 & accuracy & binary & 0.6911507 & 5 & 0.02399278 & Preprocessor1\\_Model07\\\\\n",
       "\t ⋮ & ⋮ & ⋮ & ⋮ & ⋮ & ⋮ & ⋮\\\\\n",
       "\t 76 & accuracy & binary & 0.6680006 & 5 & 0.01265056 & Preprocessor1\\_Model16\\\\\n",
       "\t 56 & accuracy & binary & 0.6635558 & 5 & 0.02379876 & Preprocessor1\\_Model12\\\\\n",
       "\t 61 & accuracy & binary & 0.6546864 & 5 & 0.01746116 & Preprocessor1\\_Model13\\\\\n",
       "\t 66 & accuracy & binary & 0.6499245 & 5 & 0.01399062 & Preprocessor1\\_Model14\\\\\n",
       "\t  1 & accuracy & binary & 0.6366153 & 5 & 0.01933288 & Preprocessor1\\_Model01\\\\\n",
       "\\end{tabular}\n"
      ],
      "text/markdown": [
       "\n",
       "A tibble: 20 × 7\n",
       "\n",
       "| neighbors &lt;dbl&gt; | .metric &lt;chr&gt; | .estimator &lt;chr&gt; | mean &lt;dbl&gt; | n &lt;int&gt; | std_err &lt;dbl&gt; | .config &lt;chr&gt; |\n",
       "|---|---|---|---|---|---|---|\n",
       "| 16 | accuracy | binary | 0.7324927 | 5 | 0.01293799 | Preprocessor1_Model04 |\n",
       "| 21 | accuracy | binary | 0.7142001 | 5 | 0.02170714 | Preprocessor1_Model05 |\n",
       "| 11 | accuracy | binary | 0.7139887 | 5 | 0.01965400 | Preprocessor1_Model03 |\n",
       "| 26 | accuracy | binary | 0.7053206 | 5 | 0.03763576 | Preprocessor1_Model06 |\n",
       "| 31 | accuracy | binary | 0.6911507 | 5 | 0.02399278 | Preprocessor1_Model07 |\n",
       "| ⋮ | ⋮ | ⋮ | ⋮ | ⋮ | ⋮ | ⋮ |\n",
       "| 76 | accuracy | binary | 0.6680006 | 5 | 0.01265056 | Preprocessor1_Model16 |\n",
       "| 56 | accuracy | binary | 0.6635558 | 5 | 0.02379876 | Preprocessor1_Model12 |\n",
       "| 61 | accuracy | binary | 0.6546864 | 5 | 0.01746116 | Preprocessor1_Model13 |\n",
       "| 66 | accuracy | binary | 0.6499245 | 5 | 0.01399062 | Preprocessor1_Model14 |\n",
       "|  1 | accuracy | binary | 0.6366153 | 5 | 0.01933288 | Preprocessor1_Model01 |\n",
       "\n"
      ],
      "text/plain": [
       "   neighbors .metric  .estimator mean      n std_err    .config              \n",
       "1  16        accuracy binary     0.7324927 5 0.01293799 Preprocessor1_Model04\n",
       "2  21        accuracy binary     0.7142001 5 0.02170714 Preprocessor1_Model05\n",
       "3  11        accuracy binary     0.7139887 5 0.01965400 Preprocessor1_Model03\n",
       "4  26        accuracy binary     0.7053206 5 0.03763576 Preprocessor1_Model06\n",
       "5  31        accuracy binary     0.6911507 5 0.02399278 Preprocessor1_Model07\n",
       "⋮  ⋮         ⋮        ⋮          ⋮         ⋮ ⋮          ⋮                    \n",
       "16 76        accuracy binary     0.6680006 5 0.01265056 Preprocessor1_Model16\n",
       "17 56        accuracy binary     0.6635558 5 0.02379876 Preprocessor1_Model12\n",
       "18 61        accuracy binary     0.6546864 5 0.01746116 Preprocessor1_Model13\n",
       "19 66        accuracy binary     0.6499245 5 0.01399062 Preprocessor1_Model14\n",
       "20  1        accuracy binary     0.6366153 5 0.01933288 Preprocessor1_Model01"
      ]
     },
     "metadata": {},
     "output_type": "display_data"
    },
    {
     "data": {
      "image/png": "[encoded data removed]",
      "text/plain": [
       "plot without title"
      ]
     },
     "metadata": {
      "image/png": {
       "height": 420,
       "width": 420
      }
     },
     "output_type": "display_data"
    }
   ],
   "source": [
    "set.seed(1)\n",
    "knn_spec <- nearest_neighbor(weight_func = \"rectangular\",neighbors = tune()) |>\n",
    "  set_engine(\"kknn\") |>\n",
    "  set_mode(\"classification\")\n",
    "\n",
    "k = tibble(neighbors = seq(1, 100, 5))\n",
    "\n",
    "\n",
    "training_workflow <- workflow() |>\n",
    "  add_recipe(heart_recipe) |>\n",
    "  add_model(knn_spec) |>\n",
    "  tune_grid(resamples = training_vfold, grid = k) |>\n",
    "  collect_metrics()\n",
    "\n",
    "accuracy <- training_workflow |>\n",
    "  filter(.metric == \"accuracy\") |>\n",
    "  arrange(desc(mean))\n",
    "\n",
    "print(\"Table 5\")\n",
    "accuracy\n",
    "\n",
    "cross_val_plot <- accuracy |>\n",
    "  ggplot(aes(x = neighbors, y = mean)) +\n",
    "  geom_point() +\n",
    "  geom_line() +\n",
    "  labs(x = \"Neighbors\", y = \"Accuracy Estimate\", title = \"Figure 2\")\n",
    "\n",
    "cross_val_plot\n",
    "\n",
    "best_k = accuracy |>\n",
    "  arrange(desc(mean)) |>\n",
    "  slice(1) |>\n",
    "  pull(neighbors)"
   ]
  },
  {
   "cell_type": "markdown",
   "id": "f4386900-b9f0-49d6-8a85-117f4f82d5ee",
   "metadata": {},
   "source": [
    "<font size=\"3\">**Using Model for Prediction:**</font>\n",
    "<br>As we can see from both the table and the plot; when k-neighbors equals 16, it gives us the highest mean accuracy which is around 73%. Next we created a k-NN model specification using the best k we found and test it with the testing set."
   ]
  },
  {
   "cell_type": "code",
   "execution_count": 16,
   "id": "7322c258-3deb-431a-b155-c8edc34d1384",
   "metadata": {},
   "outputs": [
    {
     "name": "stdout",
     "output_type": "stream",
     "text": [
      "[1] \"Table 6. Predictions on the testing data, showing predicted and actual results\"\n"
     ]
    },
    {
     "data": {
      "text/html": [
       "<table class=\"dataframe\">\n",
       "<caption>A tibble: 73 × 5</caption>\n",
       "<thead>\n",
       "\t<tr><th scope=col>.pred_class</th><th scope=col>age</th><th scope=col>cp</th><th scope=col>chol</th><th scope=col>heart_disease</th></tr>\n",
       "\t<tr><th scope=col>&lt;fct&gt;</th><th scope=col>&lt;dbl&gt;</th><th scope=col>&lt;dbl&gt;</th><th scope=col>&lt;dbl&gt;</th><th scope=col>&lt;fct&gt;</th></tr>\n",
       "</thead>\n",
       "<tbody>\n",
       "\t<tr><td>absent  </td><td>56</td><td>2</td><td>236</td><td>absent  </td></tr>\n",
       "\t<tr><td>presence</td><td>62</td><td>4</td><td>268</td><td>presence</td></tr>\n",
       "\t<tr><td>presence</td><td>57</td><td>4</td><td>354</td><td>absent  </td></tr>\n",
       "\t<tr><td>absent  </td><td>44</td><td>2</td><td>263</td><td>absent  </td></tr>\n",
       "\t<tr><td>absent  </td><td>52</td><td>3</td><td>199</td><td>absent  </td></tr>\n",
       "\t<tr><td>⋮</td><td>⋮</td><td>⋮</td><td>⋮</td><td>⋮</td></tr>\n",
       "\t<tr><td>absent  </td><td>35</td><td>2</td><td>192</td><td>absent  </td></tr>\n",
       "\t<tr><td>presence</td><td>61</td><td>4</td><td>203</td><td>presence</td></tr>\n",
       "\t<tr><td>absent  </td><td>45</td><td>1</td><td>264</td><td>presence</td></tr>\n",
       "\t<tr><td>presence</td><td>68</td><td>4</td><td>193</td><td>presence</td></tr>\n",
       "\t<tr><td>absent  </td><td>38</td><td>3</td><td>175</td><td>absent  </td></tr>\n",
       "</tbody>\n",
       "</table>\n"
      ],
      "text/latex": [
       "A tibble: 73 × 5\n",
       "\\begin{tabular}{lllll}\n",
       " .pred\\_class & age & cp & chol & heart\\_disease\\\\\n",
       " <fct> & <dbl> & <dbl> & <dbl> & <fct>\\\\\n",
       "\\hline\n",
       "\t absent   & 56 & 2 & 236 & absent  \\\\\n",
       "\t presence & 62 & 4 & 268 & presence\\\\\n",
       "\t presence & 57 & 4 & 354 & absent  \\\\\n",
       "\t absent   & 44 & 2 & 263 & absent  \\\\\n",
       "\t absent   & 52 & 3 & 199 & absent  \\\\\n",
       "\t ⋮ & ⋮ & ⋮ & ⋮ & ⋮\\\\\n",
       "\t absent   & 35 & 2 & 192 & absent  \\\\\n",
       "\t presence & 61 & 4 & 203 & presence\\\\\n",
       "\t absent   & 45 & 1 & 264 & presence\\\\\n",
       "\t presence & 68 & 4 & 193 & presence\\\\\n",
       "\t absent   & 38 & 3 & 175 & absent  \\\\\n",
       "\\end{tabular}\n"
      ],
      "text/markdown": [
       "\n",
       "A tibble: 73 × 5\n",
       "\n",
       "| .pred_class &lt;fct&gt; | age &lt;dbl&gt; | cp &lt;dbl&gt; | chol &lt;dbl&gt; | heart_disease &lt;fct&gt; |\n",
       "|---|---|---|---|---|\n",
       "| absent   | 56 | 2 | 236 | absent   |\n",
       "| presence | 62 | 4 | 268 | presence |\n",
       "| presence | 57 | 4 | 354 | absent   |\n",
       "| absent   | 44 | 2 | 263 | absent   |\n",
       "| absent   | 52 | 3 | 199 | absent   |\n",
       "| ⋮ | ⋮ | ⋮ | ⋮ | ⋮ |\n",
       "| absent   | 35 | 2 | 192 | absent   |\n",
       "| presence | 61 | 4 | 203 | presence |\n",
       "| absent   | 45 | 1 | 264 | presence |\n",
       "| presence | 68 | 4 | 193 | presence |\n",
       "| absent   | 38 | 3 | 175 | absent   |\n",
       "\n"
      ],
      "text/plain": [
       "   .pred_class age cp chol heart_disease\n",
       "1  absent      56  2  236  absent       \n",
       "2  presence    62  4  268  presence     \n",
       "3  presence    57  4  354  absent       \n",
       "4  absent      44  2  263  absent       \n",
       "5  absent      52  3  199  absent       \n",
       "⋮  ⋮           ⋮   ⋮  ⋮    ⋮            \n",
       "69 absent      35  2  192  absent       \n",
       "70 presence    61  4  203  presence     \n",
       "71 absent      45  1  264  presence     \n",
       "72 presence    68  4  193  presence     \n",
       "73 absent      38  3  175  absent       "
      ]
     },
     "metadata": {},
     "output_type": "display_data"
    },
    {
     "name": "stdout",
     "output_type": "stream",
     "text": [
      "[1] \"Table 7. The proportion of accuracy\"\n"
     ]
    },
    {
     "data": {
      "text/html": [
       "<table class=\"dataframe\">\n",
       "<caption>A tibble: 2 × 2</caption>\n",
       "<thead>\n",
       "\t<tr><th scope=col>.metric</th><th scope=col>.estimate</th></tr>\n",
       "\t<tr><th scope=col>&lt;chr&gt;</th><th scope=col>&lt;dbl&gt;</th></tr>\n",
       "</thead>\n",
       "<tbody>\n",
       "\t<tr><td>accuracy</td><td>0.7534247</td></tr>\n",
       "\t<tr><td>kap     </td><td>0.4957790</td></tr>\n",
       "</tbody>\n",
       "</table>\n"
      ],
      "text/latex": [
       "A tibble: 2 × 2\n",
       "\\begin{tabular}{ll}\n",
       " .metric & .estimate\\\\\n",
       " <chr> & <dbl>\\\\\n",
       "\\hline\n",
       "\t accuracy & 0.7534247\\\\\n",
       "\t kap      & 0.4957790\\\\\n",
       "\\end{tabular}\n"
      ],
      "text/markdown": [
       "\n",
       "A tibble: 2 × 2\n",
       "\n",
       "| .metric &lt;chr&gt; | .estimate &lt;dbl&gt; |\n",
       "|---|---|\n",
       "| accuracy | 0.7534247 |\n",
       "| kap      | 0.4957790 |\n",
       "\n"
      ],
      "text/plain": [
       "  .metric  .estimate\n",
       "1 accuracy 0.7534247\n",
       "2 kap      0.4957790"
      ]
     },
     "metadata": {},
     "output_type": "display_data"
    }
   ],
   "source": [
    "best_spec = nearest_neighbor(weight_func = \"rectangular\", neighbors = best_k) |> \n",
    "  set_engine(\"kknn\") |>\n",
    "  set_mode(\"classification\")\n",
    "\n",
    "data_best_fit = workflow() |>\n",
    "  add_recipe(heart_recipe) |>\n",
    "  add_model(best_spec) |>\n",
    "  fit(data = heart_train) \n",
    "\n",
    "data_prediciton = predict(data_best_fit, heart_test) |>\n",
    "  bind_cols(heart_test)\n",
    "\n",
    "print(\"Table 6. Predictions on the testing data, showing predicted and actual results\")\n",
    "data_prediciton\n",
    "\n",
    "data_accurcies = data_prediciton |>\n",
    "  metrics(truth = heart_disease, estimate = .pred_class) |>\n",
    "  select(.metric, .estimate)\n",
    "\n",
    "print(\"Table 7. The proportion of accuracy\")\n",
    "data_accurcies"
   ]
  },
  {
   "cell_type": "markdown",
   "id": "d3a1e928-012b-470d-ada0-fc9f97844adb",
   "metadata": {},
   "source": [
    "<br>We can also visualize the result with a confusion matrix. The confusion matrix tell us the following: \n",
    "<ul>\n",
    "    <li>True Positives: The number of instances where the model correctly predicted the positive class (e.g., heart disease is present).</li>\n",
    "    <li>True Negatives: The number of instances where the model correctly predicted the negative class (e.g., heart disease is absent).</li>\n",
    "    <li>False Positives: The number of instances where the model incorrectly predicted the positive class (i.e., predicted heart disease when it was actually absent).</li>\n",
    "    <li>False Negatives: The number of instances where the model incorrectly predicted the negative class (i.e., predicted no heart disease when it was actually present).</li>\n",
    "    </ul>\n",
    "<br>We can also calculate the accuracy by adding up the sum of true positive and true negatives, then divided by the sum of everything. In this case, (33+22)/(33+22+10+8) = 0.75; which is the same result we get above."
   ]
  },
  {
   "cell_type": "code",
   "execution_count": 17,
   "id": "b5d0fb42-a6ba-496c-8dad-73c04921d1d0",
   "metadata": {},
   "outputs": [
    {
     "data": {
      "text/plain": [
       "          Truth\n",
       "Prediction absent presence\n",
       "  absent       33       10\n",
       "  presence      8       22"
      ]
     },
     "metadata": {},
     "output_type": "display_data"
    }
   ],
   "source": [
    "data_conf_mat = data_prediciton |>\n",
    "  conf_mat(truth = heart_disease, estimate = .pred_class)\n",
    "\n",
    "data_conf_mat"
   ]
  },
  {
   "cell_type": "markdown",
   "id": "1c9354ee-e96e-4473-84a1-8dcc547e0252",
   "metadata": {},
   "source": [
    "<br>Last, when we pass a new observation to our model, we can predict if the person is diagnosis with heart disease or not. For example:"
   ]
  },
  {
   "cell_type": "code",
   "execution_count": 12,
   "id": "6107faa1-b0e2-4073-b787-4e79df9d9697",
   "metadata": {},
   "outputs": [
    {
     "data": {
      "text/html": [
       "<table class=\"dataframe\">\n",
       "<caption>A tibble: 1 × 1</caption>\n",
       "<thead>\n",
       "\t<tr><th scope=col>.pred_class</th></tr>\n",
       "\t<tr><th scope=col>&lt;fct&gt;</th></tr>\n",
       "</thead>\n",
       "<tbody>\n",
       "\t<tr><td>presence</td></tr>\n",
       "</tbody>\n",
       "</table>\n"
      ],
      "text/latex": [
       "A tibble: 1 × 1\n",
       "\\begin{tabular}{l}\n",
       " .pred\\_class\\\\\n",
       " <fct>\\\\\n",
       "\\hline\n",
       "\t presence\\\\\n",
       "\\end{tabular}\n"
      ],
      "text/markdown": [
       "\n",
       "A tibble: 1 × 1\n",
       "\n",
       "| .pred_class &lt;fct&gt; |\n",
       "|---|\n",
       "| presence |\n",
       "\n"
      ],
      "text/plain": [
       "  .pred_class\n",
       "1 presence   "
      ]
     },
     "metadata": {},
     "output_type": "display_data"
    }
   ],
   "source": [
    "new_observation <- tibble(\n",
    "  age = 64,\n",
    "  chol = 250,\n",
    "  cp = 4\n",
    ")\n",
    "\n",
    "new_prediction <- predict(data_best_fit, new_observation)\n",
    "new_prediction"
   ]
  },
  {
   "cell_type": "markdown",
   "id": "ecda62fb-f3d4-4f92-8418-f43960bf4268",
   "metadata": {},
   "source": [
    "<font size=\"4\">**Expected outcomes and significance:**</font>\n",
    "<br>\n",
    "<br> We are expecting to find which variable has the most influence on getting a heart disease.\n",
    "By distinguishing the variable, we can target the specific area and get treatment for it.\n",
    "Narrowing it down to see how a single variable affects the chance of getting heart disease? Does gender affect chances of getting heart disease?"
   ]
  },
  {
   "cell_type": "code",
   "execution_count": 13,
   "id": "1d06c60c-15ac-4c28-9ed0-b679e7809156",
   "metadata": {},
   "outputs": [],
   "source": [
    "#things we can do to improve\n",
    "#What do you expect to find?\n",
    "#What impact could such findings have?\n",
    "#What future questions could this lead to?"
   ]
  },
  {
   "cell_type": "markdown",
   "id": "1f3aaedb-5d16-479a-8039-ab4b5c36273c",
   "metadata": {},
   "source": [
    "<font size=\"4\">**Reference:**</font>\n",
    "<br>\n",
    "<br> Dua, D. and Graff, C. (2019). UCI Machine Learning Repository [http://archive.ics.uci.edu/ml]. Irvine, CA: University of California, School of Information and Computer Science."
   ]
  }
 ],
 "metadata": {
  "kernelspec": {
   "display_name": "R",
   "language": "R",
   "name": "ir"
  },
  "language_info": {
   "codemirror_mode": "r",
   "file_extension": ".r",
   "mimetype": "text/x-r-source",
   "name": "R",
   "pygments_lexer": "r",
   "version": "4.1.3"
  }
 },
 "nbformat": 4,
 "nbformat_minor": 5
}
