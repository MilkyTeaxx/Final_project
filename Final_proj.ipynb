{
 "cells": [
  {
   "cell_type": "markdown",
   "id": "a91c0fc5-4d88-4190-b377-da945d41c455",
   "metadata": {},
   "source": [
    "<font size=\"6\">**DSCI 100 group 24 project proposal**</font>\n",
    "<br>\n",
    "<br><font size=\"4\">**Introduction:**</font>\n",
    "<br>\n",
    "<br>Heart disease is a serious issue affecting many people worldwide. Many factors can put people at risk of having heart disease such as cholesterol, blood pressure, and age.\n",
    "In this study, we will be exploring and predicting if a person has heart disease given their attributes such as gender, age, serum cholesterol etc. \n",
    "We will be trying to answer the question:  “Are age, chest pain type, resting blood pressure, cholesterol and maximum heart rate predictors of heart disease?”\n",
    "In our project, we will be using the heart disease data set for cleveland, which contains 14 different attributes:\n",
    "1. Age (in years)\n",
    "2. Sex (1 = male; 0 = female)\n",
    "3. cp: chest pain type (1 = typical angina, 2 = atypical angina, 3 = non-anginal pain, 4 = asymptomatic)\n",
    "4. trestbps: resting blood pressure (in mm Hg on admission to the hospital)\n",
    "5. chol: serum cholesterol in mg/dl\n",
    "6. fbs: fasting blood sugar > 120 mg/dl (1 = true; 0 = false)\n",
    "7. restecg: resting electrocardiographic results (0 = normal, 1 = having ST-T wave abnormality (T wave inversions and/or ST elevation or depression of > 0.05 mV), 2 = showing probable or definite left ventricular hypertrophy by Estes' criteria)\n",
    "8. Thalach: maximum heart rate achieved\n",
    "9. exang: exercise induced angina (1 = yes; 0 = no)\n",
    "10. oldpeak: ST depression induced by exercise relative to rest\n",
    "11. slope: the slope of the peak exercise ST segment (1 = upsloping, 2 = flat, 3 = downsloping)\n",
    "12. ca: number of major vessels (0-3) colored by flourosopy\n",
    "13. thal: 3 = normal; 6 = fixed defect; 7 = reversable defect\n",
    "14. num: diagnosis of heart disease (angiographic disease status) (0 = < 50% diameter narrowing, 1 = > 50% diameter narrowing)\n"
   ]
  },
  {
   "cell_type": "code",
   "execution_count": 1,
   "id": "4167f042-ef5c-4024-aa2d-c438f4cb156e",
   "metadata": {},
   "outputs": [
    {
     "name": "stderr",
     "output_type": "stream",
     "text": [
      "── \u001b[1mAttaching packages\u001b[22m ─────────────────────────────────────── tidyverse 1.3.1 ──\n",
      "\n",
      "\u001b[32m✔\u001b[39m \u001b[34mggplot2\u001b[39m 3.3.6     \u001b[32m✔\u001b[39m \u001b[34mpurrr  \u001b[39m 0.3.4\n",
      "\u001b[32m✔\u001b[39m \u001b[34mtibble \u001b[39m 3.1.7     \u001b[32m✔\u001b[39m \u001b[34mdplyr  \u001b[39m 1.0.9\n",
      "\u001b[32m✔\u001b[39m \u001b[34mtidyr  \u001b[39m 1.2.0     \u001b[32m✔\u001b[39m \u001b[34mstringr\u001b[39m 1.4.0\n",
      "\u001b[32m✔\u001b[39m \u001b[34mreadr  \u001b[39m 2.1.2     \u001b[32m✔\u001b[39m \u001b[34mforcats\u001b[39m 0.5.1\n",
      "\n",
      "── \u001b[1mConflicts\u001b[22m ────────────────────────────────────────── tidyverse_conflicts() ──\n",
      "\u001b[31m✖\u001b[39m \u001b[34mdplyr\u001b[39m::\u001b[32mfilter()\u001b[39m masks \u001b[34mstats\u001b[39m::filter()\n",
      "\u001b[31m✖\u001b[39m \u001b[34mdplyr\u001b[39m::\u001b[32mlag()\u001b[39m    masks \u001b[34mstats\u001b[39m::lag()\n",
      "\n",
      "── \u001b[1mAttaching packages\u001b[22m ────────────────────────────────────── tidymodels 1.0.0 ──\n",
      "\n",
      "\u001b[32m✔\u001b[39m \u001b[34mbroom       \u001b[39m 1.0.0     \u001b[32m✔\u001b[39m \u001b[34mrsample     \u001b[39m 1.0.0\n",
      "\u001b[32m✔\u001b[39m \u001b[34mdials       \u001b[39m 1.0.0     \u001b[32m✔\u001b[39m \u001b[34mtune        \u001b[39m 1.0.0\n",
      "\u001b[32m✔\u001b[39m \u001b[34minfer       \u001b[39m 1.0.2     \u001b[32m✔\u001b[39m \u001b[34mworkflows   \u001b[39m 1.0.0\n",
      "\u001b[32m✔\u001b[39m \u001b[34mmodeldata   \u001b[39m 1.0.0     \u001b[32m✔\u001b[39m \u001b[34mworkflowsets\u001b[39m 1.0.0\n",
      "\u001b[32m✔\u001b[39m \u001b[34mparsnip     \u001b[39m 1.0.0     \u001b[32m✔\u001b[39m \u001b[34myardstick   \u001b[39m 1.0.0\n",
      "\u001b[32m✔\u001b[39m \u001b[34mrecipes     \u001b[39m 1.0.1     \n",
      "\n",
      "── \u001b[1mConflicts\u001b[22m ───────────────────────────────────────── tidymodels_conflicts() ──\n",
      "\u001b[31m✖\u001b[39m \u001b[34mscales\u001b[39m::\u001b[32mdiscard()\u001b[39m masks \u001b[34mpurrr\u001b[39m::discard()\n",
      "\u001b[31m✖\u001b[39m \u001b[34mdplyr\u001b[39m::\u001b[32mfilter()\u001b[39m   masks \u001b[34mstats\u001b[39m::filter()\n",
      "\u001b[31m✖\u001b[39m \u001b[34mrecipes\u001b[39m::\u001b[32mfixed()\u001b[39m  masks \u001b[34mstringr\u001b[39m::fixed()\n",
      "\u001b[31m✖\u001b[39m \u001b[34mdplyr\u001b[39m::\u001b[32mlag()\u001b[39m      masks \u001b[34mstats\u001b[39m::lag()\n",
      "\u001b[31m✖\u001b[39m \u001b[34myardstick\u001b[39m::\u001b[32mspec()\u001b[39m masks \u001b[34mreadr\u001b[39m::spec()\n",
      "\u001b[31m✖\u001b[39m \u001b[34mrecipes\u001b[39m::\u001b[32mstep()\u001b[39m   masks \u001b[34mstats\u001b[39m::step()\n",
      "\u001b[34m•\u001b[39m Use \u001b[32mtidymodels_prefer()\u001b[39m to resolve common conflicts.\n",
      "\n",
      "Registered S3 method overwritten by 'GGally':\n",
      "  method from   \n",
      "  +.gg   ggplot2\n",
      "\n"
     ]
    }
   ],
   "source": [
    "#These are the packages we will use for analyzing our dataset:\n",
    "library(tidyverse)\n",
    "library(tidymodels)\n",
    "library(repr)\n",
    "library(digest)\n",
    "library(GGally)\n",
    "library(ISLR)\n",
    "options(repr.matrix.max.rows = 10)"
   ]
  },
  {
   "cell_type": "code",
   "execution_count": 2,
   "id": "91b8ed8b-3f41-481c-a32a-147707a89829",
   "metadata": {},
   "outputs": [],
   "source": [
    "set.seed(1)"
   ]
  },
  {
   "cell_type": "markdown",
   "id": "f02c95c4-a3cb-40d7-b40b-a7cad9aace3e",
   "metadata": {},
   "source": [
    "<font size=\"4\">**Preliminary exploratory data analysis:**</font>"
   ]
  },
  {
   "cell_type": "code",
   "execution_count": 3,
   "id": "913d4c9b-d550-4161-afbd-e4ea953c41d0",
   "metadata": {},
   "outputs": [
    {
     "name": "stderr",
     "output_type": "stream",
     "text": [
      "\u001b[1mRows: \u001b[22m\u001b[34m303\u001b[39m \u001b[1mColumns: \u001b[22m\u001b[34m14\u001b[39m\n",
      "\u001b[36m──\u001b[39m \u001b[1mColumn specification\u001b[22m \u001b[36m────────────────────────────────────────────────────────\u001b[39m\n",
      "\u001b[1mDelimiter:\u001b[22m \",\"\n",
      "\u001b[31mchr\u001b[39m  (2): ca, thal\n",
      "\u001b[32mdbl\u001b[39m (12): age, sex, cp, trestbps, chol, fbs, restecg, thalach, exang, oldpea...\n",
      "\n",
      "\u001b[36mℹ\u001b[39m Use `spec()` to retrieve the full column specification for this data.\n",
      "\u001b[36mℹ\u001b[39m Specify the column types or set `show_col_types = FALSE` to quiet this message.\n"
     ]
    },
    {
     "data": {
      "text/html": [
       "<table class=\"dataframe\">\n",
       "<caption>A tibble: 303 × 14</caption>\n",
       "<thead>\n",
       "\t<tr><th scope=col>age</th><th scope=col>sex</th><th scope=col>cp</th><th scope=col>trestbps</th><th scope=col>chol</th><th scope=col>fbs</th><th scope=col>restecg</th><th scope=col>thalach</th><th scope=col>exang</th><th scope=col>oldpeak</th><th scope=col>slope</th><th scope=col>ca</th><th scope=col>thal</th><th scope=col>heart_disease</th></tr>\n",
       "\t<tr><th scope=col>&lt;dbl&gt;</th><th scope=col>&lt;dbl&gt;</th><th scope=col>&lt;dbl&gt;</th><th scope=col>&lt;dbl&gt;</th><th scope=col>&lt;dbl&gt;</th><th scope=col>&lt;dbl&gt;</th><th scope=col>&lt;dbl&gt;</th><th scope=col>&lt;dbl&gt;</th><th scope=col>&lt;dbl&gt;</th><th scope=col>&lt;dbl&gt;</th><th scope=col>&lt;dbl&gt;</th><th scope=col>&lt;chr&gt;</th><th scope=col>&lt;chr&gt;</th><th scope=col>&lt;chr&gt;</th></tr>\n",
       "</thead>\n",
       "<tbody>\n",
       "\t<tr><td>63</td><td>1</td><td>1</td><td>145</td><td>233</td><td>1</td><td>2</td><td>150</td><td>0</td><td>2.3</td><td>3</td><td>0.0</td><td>6.0</td><td>absent  </td></tr>\n",
       "\t<tr><td>67</td><td>1</td><td>4</td><td>160</td><td>286</td><td>0</td><td>2</td><td>108</td><td>1</td><td>1.5</td><td>2</td><td>3.0</td><td>3.0</td><td>presence</td></tr>\n",
       "\t<tr><td>67</td><td>1</td><td>4</td><td>120</td><td>229</td><td>0</td><td>2</td><td>129</td><td>1</td><td>2.6</td><td>2</td><td>2.0</td><td>7.0</td><td>presence</td></tr>\n",
       "\t<tr><td>37</td><td>1</td><td>3</td><td>130</td><td>250</td><td>0</td><td>0</td><td>187</td><td>0</td><td>3.5</td><td>3</td><td>0.0</td><td>3.0</td><td>absent  </td></tr>\n",
       "\t<tr><td>41</td><td>0</td><td>2</td><td>130</td><td>204</td><td>0</td><td>2</td><td>172</td><td>0</td><td>1.4</td><td>1</td><td>0.0</td><td>3.0</td><td>absent  </td></tr>\n",
       "\t<tr><td>⋮</td><td>⋮</td><td>⋮</td><td>⋮</td><td>⋮</td><td>⋮</td><td>⋮</td><td>⋮</td><td>⋮</td><td>⋮</td><td>⋮</td><td>⋮</td><td>⋮</td><td>⋮</td></tr>\n",
       "\t<tr><td>45</td><td>1</td><td>1</td><td>110</td><td>264</td><td>0</td><td>0</td><td>132</td><td>0</td><td>1.2</td><td>2</td><td>0.0</td><td>7.0</td><td>presence</td></tr>\n",
       "\t<tr><td>68</td><td>1</td><td>4</td><td>144</td><td>193</td><td>1</td><td>0</td><td>141</td><td>0</td><td>3.4</td><td>2</td><td>2.0</td><td>7.0</td><td>presence</td></tr>\n",
       "\t<tr><td>57</td><td>1</td><td>4</td><td>130</td><td>131</td><td>0</td><td>0</td><td>115</td><td>1</td><td>1.2</td><td>2</td><td>1.0</td><td>7.0</td><td>presence</td></tr>\n",
       "\t<tr><td>57</td><td>0</td><td>2</td><td>130</td><td>236</td><td>0</td><td>2</td><td>174</td><td>0</td><td>0.0</td><td>2</td><td>1.0</td><td>3.0</td><td>presence</td></tr>\n",
       "\t<tr><td>38</td><td>1</td><td>3</td><td>138</td><td>175</td><td>0</td><td>0</td><td>173</td><td>0</td><td>0.0</td><td>1</td><td>?  </td><td>3.0</td><td>absent  </td></tr>\n",
       "</tbody>\n",
       "</table>\n"
      ],
      "text/latex": [
       "A tibble: 303 × 14\n",
       "\\begin{tabular}{llllllllllllll}\n",
       " age & sex & cp & trestbps & chol & fbs & restecg & thalach & exang & oldpeak & slope & ca & thal & heart\\_disease\\\\\n",
       " <dbl> & <dbl> & <dbl> & <dbl> & <dbl> & <dbl> & <dbl> & <dbl> & <dbl> & <dbl> & <dbl> & <chr> & <chr> & <chr>\\\\\n",
       "\\hline\n",
       "\t 63 & 1 & 1 & 145 & 233 & 1 & 2 & 150 & 0 & 2.3 & 3 & 0.0 & 6.0 & absent  \\\\\n",
       "\t 67 & 1 & 4 & 160 & 286 & 0 & 2 & 108 & 1 & 1.5 & 2 & 3.0 & 3.0 & presence\\\\\n",
       "\t 67 & 1 & 4 & 120 & 229 & 0 & 2 & 129 & 1 & 2.6 & 2 & 2.0 & 7.0 & presence\\\\\n",
       "\t 37 & 1 & 3 & 130 & 250 & 0 & 0 & 187 & 0 & 3.5 & 3 & 0.0 & 3.0 & absent  \\\\\n",
       "\t 41 & 0 & 2 & 130 & 204 & 0 & 2 & 172 & 0 & 1.4 & 1 & 0.0 & 3.0 & absent  \\\\\n",
       "\t ⋮ & ⋮ & ⋮ & ⋮ & ⋮ & ⋮ & ⋮ & ⋮ & ⋮ & ⋮ & ⋮ & ⋮ & ⋮ & ⋮\\\\\n",
       "\t 45 & 1 & 1 & 110 & 264 & 0 & 0 & 132 & 0 & 1.2 & 2 & 0.0 & 7.0 & presence\\\\\n",
       "\t 68 & 1 & 4 & 144 & 193 & 1 & 0 & 141 & 0 & 3.4 & 2 & 2.0 & 7.0 & presence\\\\\n",
       "\t 57 & 1 & 4 & 130 & 131 & 0 & 0 & 115 & 1 & 1.2 & 2 & 1.0 & 7.0 & presence\\\\\n",
       "\t 57 & 0 & 2 & 130 & 236 & 0 & 2 & 174 & 0 & 0.0 & 2 & 1.0 & 3.0 & presence\\\\\n",
       "\t 38 & 1 & 3 & 138 & 175 & 0 & 0 & 173 & 0 & 0.0 & 1 & ?   & 3.0 & absent  \\\\\n",
       "\\end{tabular}\n"
      ],
      "text/markdown": [
       "\n",
       "A tibble: 303 × 14\n",
       "\n",
       "| age &lt;dbl&gt; | sex &lt;dbl&gt; | cp &lt;dbl&gt; | trestbps &lt;dbl&gt; | chol &lt;dbl&gt; | fbs &lt;dbl&gt; | restecg &lt;dbl&gt; | thalach &lt;dbl&gt; | exang &lt;dbl&gt; | oldpeak &lt;dbl&gt; | slope &lt;dbl&gt; | ca &lt;chr&gt; | thal &lt;chr&gt; | heart_disease &lt;chr&gt; |\n",
       "|---|---|---|---|---|---|---|---|---|---|---|---|---|---|\n",
       "| 63 | 1 | 1 | 145 | 233 | 1 | 2 | 150 | 0 | 2.3 | 3 | 0.0 | 6.0 | absent   |\n",
       "| 67 | 1 | 4 | 160 | 286 | 0 | 2 | 108 | 1 | 1.5 | 2 | 3.0 | 3.0 | presence |\n",
       "| 67 | 1 | 4 | 120 | 229 | 0 | 2 | 129 | 1 | 2.6 | 2 | 2.0 | 7.0 | presence |\n",
       "| 37 | 1 | 3 | 130 | 250 | 0 | 0 | 187 | 0 | 3.5 | 3 | 0.0 | 3.0 | absent   |\n",
       "| 41 | 0 | 2 | 130 | 204 | 0 | 2 | 172 | 0 | 1.4 | 1 | 0.0 | 3.0 | absent   |\n",
       "| ⋮ | ⋮ | ⋮ | ⋮ | ⋮ | ⋮ | ⋮ | ⋮ | ⋮ | ⋮ | ⋮ | ⋮ | ⋮ | ⋮ |\n",
       "| 45 | 1 | 1 | 110 | 264 | 0 | 0 | 132 | 0 | 1.2 | 2 | 0.0 | 7.0 | presence |\n",
       "| 68 | 1 | 4 | 144 | 193 | 1 | 0 | 141 | 0 | 3.4 | 2 | 2.0 | 7.0 | presence |\n",
       "| 57 | 1 | 4 | 130 | 131 | 0 | 0 | 115 | 1 | 1.2 | 2 | 1.0 | 7.0 | presence |\n",
       "| 57 | 0 | 2 | 130 | 236 | 0 | 2 | 174 | 0 | 0.0 | 2 | 1.0 | 3.0 | presence |\n",
       "| 38 | 1 | 3 | 138 | 175 | 0 | 0 | 173 | 0 | 0.0 | 1 | ?   | 3.0 | absent   |\n",
       "\n"
      ],
      "text/plain": [
       "    age sex cp trestbps chol fbs restecg thalach exang oldpeak slope ca  thal\n",
       "1   63  1   1  145      233  1   2       150     0     2.3     3     0.0 6.0 \n",
       "2   67  1   4  160      286  0   2       108     1     1.5     2     3.0 3.0 \n",
       "3   67  1   4  120      229  0   2       129     1     2.6     2     2.0 7.0 \n",
       "4   37  1   3  130      250  0   0       187     0     3.5     3     0.0 3.0 \n",
       "5   41  0   2  130      204  0   2       172     0     1.4     1     0.0 3.0 \n",
       "⋮   ⋮   ⋮   ⋮  ⋮        ⋮    ⋮   ⋮       ⋮       ⋮     ⋮       ⋮     ⋮   ⋮   \n",
       "299 45  1   1  110      264  0   0       132     0     1.2     2     0.0 7.0 \n",
       "300 68  1   4  144      193  1   0       141     0     3.4     2     2.0 7.0 \n",
       "301 57  1   4  130      131  0   0       115     1     1.2     2     1.0 7.0 \n",
       "302 57  0   2  130      236  0   2       174     0     0.0     2     1.0 3.0 \n",
       "303 38  1   3  138      175  0   0       173     0     0.0     1     ?   3.0 \n",
       "    heart_disease\n",
       "1   absent       \n",
       "2   presence     \n",
       "3   presence     \n",
       "4   absent       \n",
       "5   absent       \n",
       "⋮   ⋮            \n",
       "299 presence     \n",
       "300 presence     \n",
       "301 presence     \n",
       "302 presence     \n",
       "303 absent       "
      ]
     },
     "metadata": {},
     "output_type": "display_data"
    }
   ],
   "source": [
    "data <- read_csv(\"https://archive.ics.uci.edu/ml/machine-learning-databases/heart-disease/processed.cleveland.data\", col_names=c(\"age\",\"sex\",\"cp\",\"trestbps\",\"chol\",\"fbs\",\"restecg\",\"thalach\",\"exang\",\"oldpeak\",\"slope\",\"ca\",\"thal\",\"num\"))\n",
    "\n",
    "data_mutated = data |>\n",
    "mutate(heart_disease = case_when(num == 0 ~ \"absent\",\n",
    "                                 num == 1 ~ \"presence\",\n",
    "                                 num == 2 ~ \"presence\",\n",
    "                                 num == 3 ~ \"presence\")) |> \n",
    "select(-num)\n",
    "\n",
    "data_mutated\n",
    "\n",
    "#13 rows have missing data (NA) for heart_disease"
   ]
  },
  {
   "cell_type": "code",
   "execution_count": 4,
   "id": "d8639874-7388-4f63-957e-4ddd303dab71",
   "metadata": {},
   "outputs": [],
   "source": [
    "#Using only training data, summarize the data in at least one table (this is exploratory data analysis). \n",
    "#An example of a useful table could be one that reports the number of observations in each class, the means of the \n",
    "#predictor variables you plan to use in your analysis and how many rows have missing data. \n",
    "#Using only training data, visualize the data with at least one plot relevant to the analysis you plan to do \n",
    "#(this is exploratory data analysis). An example of a useful visualization could be one that compares the distributions of each of the\n",
    "#predictor variables you plan to use in your analysis."
   ]
  },
  {
   "cell_type": "code",
   "execution_count": 5,
   "id": "e4999fd6-8806-4887-8d0d-bae0b26c21a6",
   "metadata": {},
   "outputs": [
    {
     "data": {
      "text/html": [
       "<table class=\"dataframe\">\n",
       "<caption>A tibble: 226 × 14</caption>\n",
       "<thead>\n",
       "\t<tr><th scope=col>age</th><th scope=col>sex</th><th scope=col>cp</th><th scope=col>trestbps</th><th scope=col>chol</th><th scope=col>fbs</th><th scope=col>restecg</th><th scope=col>thalach</th><th scope=col>exang</th><th scope=col>oldpeak</th><th scope=col>slope</th><th scope=col>ca</th><th scope=col>thal</th><th scope=col>heart_disease</th></tr>\n",
       "\t<tr><th scope=col>&lt;dbl&gt;</th><th scope=col>&lt;dbl&gt;</th><th scope=col>&lt;dbl&gt;</th><th scope=col>&lt;dbl&gt;</th><th scope=col>&lt;dbl&gt;</th><th scope=col>&lt;dbl&gt;</th><th scope=col>&lt;dbl&gt;</th><th scope=col>&lt;dbl&gt;</th><th scope=col>&lt;dbl&gt;</th><th scope=col>&lt;dbl&gt;</th><th scope=col>&lt;dbl&gt;</th><th scope=col>&lt;chr&gt;</th><th scope=col>&lt;chr&gt;</th><th scope=col>&lt;chr&gt;</th></tr>\n",
       "</thead>\n",
       "<tbody>\n",
       "\t<tr><td>63</td><td>1</td><td>1</td><td>145</td><td>233</td><td>1</td><td>2</td><td>150</td><td>0</td><td>2.3</td><td>3</td><td>0.0</td><td>6.0</td><td>absent</td></tr>\n",
       "\t<tr><td>37</td><td>1</td><td>3</td><td>130</td><td>250</td><td>0</td><td>0</td><td>187</td><td>0</td><td>3.5</td><td>3</td><td>0.0</td><td>3.0</td><td>absent</td></tr>\n",
       "\t<tr><td>56</td><td>0</td><td>2</td><td>140</td><td>294</td><td>0</td><td>2</td><td>153</td><td>0</td><td>1.3</td><td>2</td><td>0.0</td><td>3.0</td><td>absent</td></tr>\n",
       "\t<tr><td>57</td><td>1</td><td>3</td><td>150</td><td>168</td><td>0</td><td>0</td><td>174</td><td>0</td><td>1.6</td><td>1</td><td>0.0</td><td>3.0</td><td>absent</td></tr>\n",
       "\t<tr><td>49</td><td>1</td><td>2</td><td>130</td><td>266</td><td>0</td><td>0</td><td>171</td><td>0</td><td>0.6</td><td>1</td><td>0.0</td><td>3.0</td><td>absent</td></tr>\n",
       "\t<tr><td>⋮</td><td>⋮</td><td>⋮</td><td>⋮</td><td>⋮</td><td>⋮</td><td>⋮</td><td>⋮</td><td>⋮</td><td>⋮</td><td>⋮</td><td>⋮</td><td>⋮</td><td>⋮</td></tr>\n",
       "\t<tr><td>44</td><td>1</td><td>4</td><td>120</td><td>169</td><td>0</td><td>0</td><td>144</td><td>1</td><td>2.8</td><td>3</td><td>0.0</td><td>6.0</td><td>presence</td></tr>\n",
       "\t<tr><td>63</td><td>1</td><td>4</td><td>140</td><td>187</td><td>0</td><td>2</td><td>144</td><td>1</td><td>4.0</td><td>1</td><td>2.0</td><td>7.0</td><td>presence</td></tr>\n",
       "\t<tr><td>63</td><td>0</td><td>4</td><td>124</td><td>197</td><td>0</td><td>0</td><td>136</td><td>1</td><td>0.0</td><td>2</td><td>0.0</td><td>3.0</td><td>presence</td></tr>\n",
       "\t<tr><td>57</td><td>0</td><td>4</td><td>140</td><td>241</td><td>0</td><td>0</td><td>123</td><td>1</td><td>0.2</td><td>2</td><td>0.0</td><td>7.0</td><td>presence</td></tr>\n",
       "\t<tr><td>57</td><td>1</td><td>4</td><td>130</td><td>131</td><td>0</td><td>0</td><td>115</td><td>1</td><td>1.2</td><td>2</td><td>1.0</td><td>7.0</td><td>presence</td></tr>\n",
       "</tbody>\n",
       "</table>\n"
      ],
      "text/latex": [
       "A tibble: 226 × 14\n",
       "\\begin{tabular}{llllllllllllll}\n",
       " age & sex & cp & trestbps & chol & fbs & restecg & thalach & exang & oldpeak & slope & ca & thal & heart\\_disease\\\\\n",
       " <dbl> & <dbl> & <dbl> & <dbl> & <dbl> & <dbl> & <dbl> & <dbl> & <dbl> & <dbl> & <dbl> & <chr> & <chr> & <chr>\\\\\n",
       "\\hline\n",
       "\t 63 & 1 & 1 & 145 & 233 & 1 & 2 & 150 & 0 & 2.3 & 3 & 0.0 & 6.0 & absent\\\\\n",
       "\t 37 & 1 & 3 & 130 & 250 & 0 & 0 & 187 & 0 & 3.5 & 3 & 0.0 & 3.0 & absent\\\\\n",
       "\t 56 & 0 & 2 & 140 & 294 & 0 & 2 & 153 & 0 & 1.3 & 2 & 0.0 & 3.0 & absent\\\\\n",
       "\t 57 & 1 & 3 & 150 & 168 & 0 & 0 & 174 & 0 & 1.6 & 1 & 0.0 & 3.0 & absent\\\\\n",
       "\t 49 & 1 & 2 & 130 & 266 & 0 & 0 & 171 & 0 & 0.6 & 1 & 0.0 & 3.0 & absent\\\\\n",
       "\t ⋮ & ⋮ & ⋮ & ⋮ & ⋮ & ⋮ & ⋮ & ⋮ & ⋮ & ⋮ & ⋮ & ⋮ & ⋮ & ⋮\\\\\n",
       "\t 44 & 1 & 4 & 120 & 169 & 0 & 0 & 144 & 1 & 2.8 & 3 & 0.0 & 6.0 & presence\\\\\n",
       "\t 63 & 1 & 4 & 140 & 187 & 0 & 2 & 144 & 1 & 4.0 & 1 & 2.0 & 7.0 & presence\\\\\n",
       "\t 63 & 0 & 4 & 124 & 197 & 0 & 0 & 136 & 1 & 0.0 & 2 & 0.0 & 3.0 & presence\\\\\n",
       "\t 57 & 0 & 4 & 140 & 241 & 0 & 0 & 123 & 1 & 0.2 & 2 & 0.0 & 7.0 & presence\\\\\n",
       "\t 57 & 1 & 4 & 130 & 131 & 0 & 0 & 115 & 1 & 1.2 & 2 & 1.0 & 7.0 & presence\\\\\n",
       "\\end{tabular}\n"
      ],
      "text/markdown": [
       "\n",
       "A tibble: 226 × 14\n",
       "\n",
       "| age &lt;dbl&gt; | sex &lt;dbl&gt; | cp &lt;dbl&gt; | trestbps &lt;dbl&gt; | chol &lt;dbl&gt; | fbs &lt;dbl&gt; | restecg &lt;dbl&gt; | thalach &lt;dbl&gt; | exang &lt;dbl&gt; | oldpeak &lt;dbl&gt; | slope &lt;dbl&gt; | ca &lt;chr&gt; | thal &lt;chr&gt; | heart_disease &lt;chr&gt; |\n",
       "|---|---|---|---|---|---|---|---|---|---|---|---|---|---|\n",
       "| 63 | 1 | 1 | 145 | 233 | 1 | 2 | 150 | 0 | 2.3 | 3 | 0.0 | 6.0 | absent |\n",
       "| 37 | 1 | 3 | 130 | 250 | 0 | 0 | 187 | 0 | 3.5 | 3 | 0.0 | 3.0 | absent |\n",
       "| 56 | 0 | 2 | 140 | 294 | 0 | 2 | 153 | 0 | 1.3 | 2 | 0.0 | 3.0 | absent |\n",
       "| 57 | 1 | 3 | 150 | 168 | 0 | 0 | 174 | 0 | 1.6 | 1 | 0.0 | 3.0 | absent |\n",
       "| 49 | 1 | 2 | 130 | 266 | 0 | 0 | 171 | 0 | 0.6 | 1 | 0.0 | 3.0 | absent |\n",
       "| ⋮ | ⋮ | ⋮ | ⋮ | ⋮ | ⋮ | ⋮ | ⋮ | ⋮ | ⋮ | ⋮ | ⋮ | ⋮ | ⋮ |\n",
       "| 44 | 1 | 4 | 120 | 169 | 0 | 0 | 144 | 1 | 2.8 | 3 | 0.0 | 6.0 | presence |\n",
       "| 63 | 1 | 4 | 140 | 187 | 0 | 2 | 144 | 1 | 4.0 | 1 | 2.0 | 7.0 | presence |\n",
       "| 63 | 0 | 4 | 124 | 197 | 0 | 0 | 136 | 1 | 0.0 | 2 | 0.0 | 3.0 | presence |\n",
       "| 57 | 0 | 4 | 140 | 241 | 0 | 0 | 123 | 1 | 0.2 | 2 | 0.0 | 7.0 | presence |\n",
       "| 57 | 1 | 4 | 130 | 131 | 0 | 0 | 115 | 1 | 1.2 | 2 | 1.0 | 7.0 | presence |\n",
       "\n"
      ],
      "text/plain": [
       "    age sex cp trestbps chol fbs restecg thalach exang oldpeak slope ca  thal\n",
       "1   63  1   1  145      233  1   2       150     0     2.3     3     0.0 6.0 \n",
       "2   37  1   3  130      250  0   0       187     0     3.5     3     0.0 3.0 \n",
       "3   56  0   2  140      294  0   2       153     0     1.3     2     0.0 3.0 \n",
       "4   57  1   3  150      168  0   0       174     0     1.6     1     0.0 3.0 \n",
       "5   49  1   2  130      266  0   0       171     0     0.6     1     0.0 3.0 \n",
       "⋮   ⋮   ⋮   ⋮  ⋮        ⋮    ⋮   ⋮       ⋮       ⋮     ⋮       ⋮     ⋮   ⋮   \n",
       "222 44  1   4  120      169  0   0       144     1     2.8     3     0.0 6.0 \n",
       "223 63  1   4  140      187  0   2       144     1     4.0     1     2.0 7.0 \n",
       "224 63  0   4  124      197  0   0       136     1     0.0     2     0.0 3.0 \n",
       "225 57  0   4  140      241  0   0       123     1     0.2     2     0.0 7.0 \n",
       "226 57  1   4  130      131  0   0       115     1     1.2     2     1.0 7.0 \n",
       "    heart_disease\n",
       "1   absent       \n",
       "2   absent       \n",
       "3   absent       \n",
       "4   absent       \n",
       "5   absent       \n",
       "⋮   ⋮            \n",
       "222 presence     \n",
       "223 presence     \n",
       "224 presence     \n",
       "225 presence     \n",
       "226 presence     "
      ]
     },
     "metadata": {},
     "output_type": "display_data"
    }
   ],
   "source": [
    "#delete\n",
    "data_training <- initial_split(data_mutated, prop = .75, strata= heart_disease)  \n",
    "data_training <- training(data_training)\n",
    "data_training"
   ]
  },
  {
   "cell_type": "code",
   "execution_count": 6,
   "id": "7322efee-2934-4c66-8717-2d9c286363a1",
   "metadata": {},
   "outputs": [
    {
     "data": {
      "image/png": "[encoded data removed]",
      "text/plain": [
       "plot without title"
      ]
     },
     "metadata": {
      "image/png": {
       "height": 420,
       "width": 420
      }
     },
     "output_type": "display_data"
    }
   ],
   "source": [
    "#delete\n",
    "data_plot<- data_training|>\n",
    "    ggplot(aes(x = age, y = chol))+\n",
    "        geom_point() +\n",
    "        xlab(\"Age (in years)\") +\n",
    "        ylab(\"Serum Cholesterol (in mg/dl)\")+\n",
    "        theme(text = element_text(size=20))+\n",
    "ggtitle(\"Serum Cholesterol Present Versus Age\")\n",
    "data_plot"
   ]
  },
  {
   "cell_type": "markdown",
   "id": "7272837b-05c6-4519-84d8-dfafb2729883",
   "metadata": {},
   "source": [
    "<font size=\"4\">**Methods:**</font>\n",
    "<br>\n",
    "<br> We plan to mutate the data so that 0= no heart disease, any other number = heart disease. We will use classification to predict whether or not age, chest pain type, resting blood pressure, cholesterol and maximum heart rate are predictors of heart disease. The variables we will use will be  age (in years), sex: sex (1 = male; 0 = female), painloc: chest pain location (1 = substernal; 0 = otherwise),cp: chest pain type (Value 1: typical angina, Value 2: atypical angina, Value 3: non-anginal pain, Value 4: asymptomatic), trestbps: resting blood pressure (in mm Hg on admission to the hospital), chol: serum cholesterol in mg/dl,smoke: I believe this is 1 = yes; 0 = no (is or is not a smoker), cigs (cigarettes per day), years (number of years as a smoker). We will use the scatterplot to veiw our results.\n"
   ]
  },
  {
   "cell_type": "markdown",
   "id": "ecda62fb-f3d4-4f92-8418-f43960bf4268",
   "metadata": {},
   "source": [
    "<font size=\"4\">**Expected outcomes and significance:**</font>\n",
    "<br>\n",
    "<br> We are expecting to find which variable has the most influence on getting a heart disease.\n",
    "By distinguishing the variable, we can target the specific area and get treatment for it.\n",
    "Narrowing it down to see how a single variable affects the chance of getting heart disease? Does gender affect chances of getting heart disease?"
   ]
  },
  {
   "cell_type": "markdown",
   "id": "1f3aaedb-5d16-479a-8039-ab4b5c36273c",
   "metadata": {},
   "source": [
    "<font size=\"4\">**Reference:**</font>\n",
    "<br>\n",
    "<br> Dua, D. and Graff, C. (2019). UCI Machine Learning Repository [http://archive.ics.uci.edu/ml]. Irvine, CA: University of California, School of Information and Computer Science."
   ]
  },
  {
   "cell_type": "code",
   "execution_count": 7,
   "id": "181cc880-f8a7-4468-a6a6-9a151ac89263",
   "metadata": {},
   "outputs": [
    {
     "data": {
      "text/html": [
       "<table class=\"dataframe\">\n",
       "<caption>A tibble: 290 × 4</caption>\n",
       "<thead>\n",
       "\t<tr><th scope=col>age</th><th scope=col>cp</th><th scope=col>chol</th><th scope=col>heart_disease</th></tr>\n",
       "\t<tr><th scope=col>&lt;dbl&gt;</th><th scope=col>&lt;dbl&gt;</th><th scope=col>&lt;dbl&gt;</th><th scope=col>&lt;fct&gt;</th></tr>\n",
       "</thead>\n",
       "<tbody>\n",
       "\t<tr><td>63</td><td>1</td><td>233</td><td>absent  </td></tr>\n",
       "\t<tr><td>67</td><td>4</td><td>286</td><td>presence</td></tr>\n",
       "\t<tr><td>67</td><td>4</td><td>229</td><td>presence</td></tr>\n",
       "\t<tr><td>37</td><td>3</td><td>250</td><td>absent  </td></tr>\n",
       "\t<tr><td>41</td><td>2</td><td>204</td><td>absent  </td></tr>\n",
       "\t<tr><td>⋮</td><td>⋮</td><td>⋮</td><td>⋮</td></tr>\n",
       "\t<tr><td>45</td><td>1</td><td>264</td><td>presence</td></tr>\n",
       "\t<tr><td>68</td><td>4</td><td>193</td><td>presence</td></tr>\n",
       "\t<tr><td>57</td><td>4</td><td>131</td><td>presence</td></tr>\n",
       "\t<tr><td>57</td><td>2</td><td>236</td><td>presence</td></tr>\n",
       "\t<tr><td>38</td><td>3</td><td>175</td><td>absent  </td></tr>\n",
       "</tbody>\n",
       "</table>\n"
      ],
      "text/latex": [
       "A tibble: 290 × 4\n",
       "\\begin{tabular}{llll}\n",
       " age & cp & chol & heart\\_disease\\\\\n",
       " <dbl> & <dbl> & <dbl> & <fct>\\\\\n",
       "\\hline\n",
       "\t 63 & 1 & 233 & absent  \\\\\n",
       "\t 67 & 4 & 286 & presence\\\\\n",
       "\t 67 & 4 & 229 & presence\\\\\n",
       "\t 37 & 3 & 250 & absent  \\\\\n",
       "\t 41 & 2 & 204 & absent  \\\\\n",
       "\t ⋮ & ⋮ & ⋮ & ⋮\\\\\n",
       "\t 45 & 1 & 264 & presence\\\\\n",
       "\t 68 & 4 & 193 & presence\\\\\n",
       "\t 57 & 4 & 131 & presence\\\\\n",
       "\t 57 & 2 & 236 & presence\\\\\n",
       "\t 38 & 3 & 175 & absent  \\\\\n",
       "\\end{tabular}\n"
      ],
      "text/markdown": [
       "\n",
       "A tibble: 290 × 4\n",
       "\n",
       "| age &lt;dbl&gt; | cp &lt;dbl&gt; | chol &lt;dbl&gt; | heart_disease &lt;fct&gt; |\n",
       "|---|---|---|---|\n",
       "| 63 | 1 | 233 | absent   |\n",
       "| 67 | 4 | 286 | presence |\n",
       "| 67 | 4 | 229 | presence |\n",
       "| 37 | 3 | 250 | absent   |\n",
       "| 41 | 2 | 204 | absent   |\n",
       "| ⋮ | ⋮ | ⋮ | ⋮ |\n",
       "| 45 | 1 | 264 | presence |\n",
       "| 68 | 4 | 193 | presence |\n",
       "| 57 | 4 | 131 | presence |\n",
       "| 57 | 2 | 236 | presence |\n",
       "| 38 | 3 | 175 | absent   |\n",
       "\n"
      ],
      "text/plain": [
       "    age cp chol heart_disease\n",
       "1   63  1  233  absent       \n",
       "2   67  4  286  presence     \n",
       "3   67  4  229  presence     \n",
       "4   37  3  250  absent       \n",
       "5   41  2  204  absent       \n",
       "⋮   ⋮   ⋮  ⋮    ⋮            \n",
       "286 45  1  264  presence     \n",
       "287 68  4  193  presence     \n",
       "288 57  4  131  presence     \n",
       "289 57  2  236  presence     \n",
       "290 38  3  175  absent       "
      ]
     },
     "metadata": {},
     "output_type": "display_data"
    },
    {
     "data": {
      "text/html": [
       "<table class=\"dataframe\">\n",
       "<caption>A tibble: 2 × 17</caption>\n",
       "<thead>\n",
       "\t<tr><th scope=col>heart_disease</th><th scope=col>total</th><th scope=col>age_max</th><th scope=col>age_min</th><th scope=col>age_sd</th><th scope=col>age_n</th><th scope=col>age_median</th><th scope=col>cp_max</th><th scope=col>cp_min</th><th scope=col>cp_sd</th><th scope=col>cp_n</th><th scope=col>cp_median</th><th scope=col>chol_max</th><th scope=col>chol_min</th><th scope=col>chol_sd</th><th scope=col>chol_n</th><th scope=col>chol_median</th></tr>\n",
       "\t<tr><th scope=col>&lt;fct&gt;</th><th scope=col>&lt;int&gt;</th><th scope=col>&lt;dbl&gt;</th><th scope=col>&lt;dbl&gt;</th><th scope=col>&lt;dbl&gt;</th><th scope=col>&lt;int&gt;</th><th scope=col>&lt;dbl&gt;</th><th scope=col>&lt;dbl&gt;</th><th scope=col>&lt;dbl&gt;</th><th scope=col>&lt;dbl&gt;</th><th scope=col>&lt;int&gt;</th><th scope=col>&lt;dbl&gt;</th><th scope=col>&lt;dbl&gt;</th><th scope=col>&lt;dbl&gt;</th><th scope=col>&lt;dbl&gt;</th><th scope=col>&lt;int&gt;</th><th scope=col>&lt;dbl&gt;</th></tr>\n",
       "</thead>\n",
       "<tbody>\n",
       "\t<tr><td>absent  </td><td>123</td><td>76</td><td>29</td><td>9.805431</td><td>123</td><td>53</td><td>4</td><td>1</td><td>0.9772161</td><td>123</td><td>3</td><td>417</td><td>157</td><td>46.16418</td><td>123</td><td>235</td></tr>\n",
       "\t<tr><td>presence</td><td> 94</td><td>70</td><td>35</td><td>7.620045</td><td> 94</td><td>57</td><td>4</td><td>1</td><td>0.7940525</td><td> 94</td><td>4</td><td>409</td><td>131</td><td>50.77960</td><td> 94</td><td>249</td></tr>\n",
       "</tbody>\n",
       "</table>\n"
      ],
      "text/latex": [
       "A tibble: 2 × 17\n",
       "\\begin{tabular}{lllllllllllllllll}\n",
       " heart\\_disease & total & age\\_max & age\\_min & age\\_sd & age\\_n & age\\_median & cp\\_max & cp\\_min & cp\\_sd & cp\\_n & cp\\_median & chol\\_max & chol\\_min & chol\\_sd & chol\\_n & chol\\_median\\\\\n",
       " <fct> & <int> & <dbl> & <dbl> & <dbl> & <int> & <dbl> & <dbl> & <dbl> & <dbl> & <int> & <dbl> & <dbl> & <dbl> & <dbl> & <int> & <dbl>\\\\\n",
       "\\hline\n",
       "\t absent   & 123 & 76 & 29 & 9.805431 & 123 & 53 & 4 & 1 & 0.9772161 & 123 & 3 & 417 & 157 & 46.16418 & 123 & 235\\\\\n",
       "\t presence &  94 & 70 & 35 & 7.620045 &  94 & 57 & 4 & 1 & 0.7940525 &  94 & 4 & 409 & 131 & 50.77960 &  94 & 249\\\\\n",
       "\\end{tabular}\n"
      ],
      "text/markdown": [
       "\n",
       "A tibble: 2 × 17\n",
       "\n",
       "| heart_disease &lt;fct&gt; | total &lt;int&gt; | age_max &lt;dbl&gt; | age_min &lt;dbl&gt; | age_sd &lt;dbl&gt; | age_n &lt;int&gt; | age_median &lt;dbl&gt; | cp_max &lt;dbl&gt; | cp_min &lt;dbl&gt; | cp_sd &lt;dbl&gt; | cp_n &lt;int&gt; | cp_median &lt;dbl&gt; | chol_max &lt;dbl&gt; | chol_min &lt;dbl&gt; | chol_sd &lt;dbl&gt; | chol_n &lt;int&gt; | chol_median &lt;dbl&gt; |\n",
       "|---|---|---|---|---|---|---|---|---|---|---|---|---|---|---|---|---|\n",
       "| absent   | 123 | 76 | 29 | 9.805431 | 123 | 53 | 4 | 1 | 0.9772161 | 123 | 3 | 417 | 157 | 46.16418 | 123 | 235 |\n",
       "| presence |  94 | 70 | 35 | 7.620045 |  94 | 57 | 4 | 1 | 0.7940525 |  94 | 4 | 409 | 131 | 50.77960 |  94 | 249 |\n",
       "\n"
      ],
      "text/plain": [
       "  heart_disease total age_max age_min age_sd   age_n age_median cp_max cp_min\n",
       "1 absent        123   76      29      9.805431 123   53         4      1     \n",
       "2 presence       94   70      35      7.620045  94   57         4      1     \n",
       "  cp_sd     cp_n cp_median chol_max chol_min chol_sd  chol_n chol_median\n",
       "1 0.9772161 123  3         417      157      46.16418 123    235        \n",
       "2 0.7940525  94  4         409      131      50.77960  94    249        "
      ]
     },
     "metadata": {},
     "output_type": "display_data"
    },
    {
     "data": {
      "text/html": [
       "<table class=\"dataframe\">\n",
       "<caption>A tibble: 1 × 16</caption>\n",
       "<thead>\n",
       "\t<tr><th scope=col>total</th><th scope=col>age_max</th><th scope=col>age_min</th><th scope=col>age_sd</th><th scope=col>age_n</th><th scope=col>age_median</th><th scope=col>cp_max</th><th scope=col>cp_min</th><th scope=col>cp_sd</th><th scope=col>cp_n</th><th scope=col>cp_median</th><th scope=col>chol_max</th><th scope=col>chol_min</th><th scope=col>chol_sd</th><th scope=col>chol_n</th><th scope=col>chol_median</th></tr>\n",
       "\t<tr><th scope=col>&lt;int&gt;</th><th scope=col>&lt;dbl&gt;</th><th scope=col>&lt;dbl&gt;</th><th scope=col>&lt;dbl&gt;</th><th scope=col>&lt;int&gt;</th><th scope=col>&lt;dbl&gt;</th><th scope=col>&lt;dbl&gt;</th><th scope=col>&lt;dbl&gt;</th><th scope=col>&lt;dbl&gt;</th><th scope=col>&lt;int&gt;</th><th scope=col>&lt;dbl&gt;</th><th scope=col>&lt;dbl&gt;</th><th scope=col>&lt;dbl&gt;</th><th scope=col>&lt;dbl&gt;</th><th scope=col>&lt;int&gt;</th><th scope=col>&lt;dbl&gt;</th></tr>\n",
       "</thead>\n",
       "<tbody>\n",
       "\t<tr><td>217</td><td>76</td><td>29</td><td>9.007528</td><td>217</td><td>55</td><td>4</td><td>1</td><td>0.985667</td><td>217</td><td>3</td><td>417</td><td>131</td><td>48.1769</td><td>217</td><td>240</td></tr>\n",
       "</tbody>\n",
       "</table>\n"
      ],
      "text/latex": [
       "A tibble: 1 × 16\n",
       "\\begin{tabular}{llllllllllllllll}\n",
       " total & age\\_max & age\\_min & age\\_sd & age\\_n & age\\_median & cp\\_max & cp\\_min & cp\\_sd & cp\\_n & cp\\_median & chol\\_max & chol\\_min & chol\\_sd & chol\\_n & chol\\_median\\\\\n",
       " <int> & <dbl> & <dbl> & <dbl> & <int> & <dbl> & <dbl> & <dbl> & <dbl> & <int> & <dbl> & <dbl> & <dbl> & <dbl> & <int> & <dbl>\\\\\n",
       "\\hline\n",
       "\t 217 & 76 & 29 & 9.007528 & 217 & 55 & 4 & 1 & 0.985667 & 217 & 3 & 417 & 131 & 48.1769 & 217 & 240\\\\\n",
       "\\end{tabular}\n"
      ],
      "text/markdown": [
       "\n",
       "A tibble: 1 × 16\n",
       "\n",
       "| total &lt;int&gt; | age_max &lt;dbl&gt; | age_min &lt;dbl&gt; | age_sd &lt;dbl&gt; | age_n &lt;int&gt; | age_median &lt;dbl&gt; | cp_max &lt;dbl&gt; | cp_min &lt;dbl&gt; | cp_sd &lt;dbl&gt; | cp_n &lt;int&gt; | cp_median &lt;dbl&gt; | chol_max &lt;dbl&gt; | chol_min &lt;dbl&gt; | chol_sd &lt;dbl&gt; | chol_n &lt;int&gt; | chol_median &lt;dbl&gt; |\n",
       "|---|---|---|---|---|---|---|---|---|---|---|---|---|---|---|---|\n",
       "| 217 | 76 | 29 | 9.007528 | 217 | 55 | 4 | 1 | 0.985667 | 217 | 3 | 417 | 131 | 48.1769 | 217 | 240 |\n",
       "\n"
      ],
      "text/plain": [
       "  total age_max age_min age_sd   age_n age_median cp_max cp_min cp_sd    cp_n\n",
       "1 217   76      29      9.007528 217   55         4      1      0.985667 217 \n",
       "  cp_median chol_max chol_min chol_sd chol_n chol_median\n",
       "1 3         417      131      48.1769 217    240        "
      ]
     },
     "metadata": {},
     "output_type": "display_data"
    },
    {
     "data": {
      "image/png": "[encoded data removed]",
      "text/plain": [
       "plot without title"
      ]
     },
     "metadata": {
      "image/png": {
       "height": 420,
       "width": 420
      }
     },
     "output_type": "display_data"
    }
   ],
   "source": [
    "#Using only training data, summarize the data in at least one table (this is exploratory data analysis). \n",
    "#An example of a useful table could be one that reports the number of observations in each class, the means of the \n",
    "#predictor variables you plan to use in your analysis and how many rows have missing data. \n",
    "#Using only training data, visualize the data with at least one plot relevant to the analysis you plan to do \n",
    "#(this is exploratory data analysis). An example of a useful visualization could be one that compares the distributions of each of the\n",
    "#predictor variables you plan to use in your analysis. (done)\n",
    "\n",
    "set.seed(1)\n",
    "\n",
    "#need to explain why we choose the 3 predictors\n",
    "\n",
    "data_clean <- data_mutated |>\n",
    "mutate(heart_disease=as.factor(heart_disease)) |>\n",
    "select(age,cp,chol,heart_disease) |>\n",
    "  filter(!is.na(heart_disease))\n",
    "\n",
    "#13 rows have missing data (NA) for heart_disease\n",
    "\n",
    "data_clean\n",
    "\n",
    "heart_split <- initial_split(data_clean, prop = 0.75, strata=heart_disease)\n",
    "heart_train <- training(heart_split)\n",
    "heart_test <- testing(heart_split)\n",
    "\n",
    "summary_table_individual <- heart_train |>\n",
    "  group_by(heart_disease) |>\n",
    "  summarise(total = n(),\n",
    "    age_max = max(age, na.rm = TRUE),\n",
    "    age_min = min(age, na.rm = TRUE),\n",
    "    age_sd = sd(age, na.rm = TRUE),\n",
    "    age_n = sum(!is.na(age)),\n",
    "    age_median = median(age, na.rm = TRUE),\n",
    "    \n",
    "    cp_max = max(cp, na.rm = TRUE),\n",
    "    cp_min = min(cp, na.rm = TRUE),\n",
    "    cp_sd = sd(cp, na.rm = TRUE),\n",
    "    cp_n = sum(!is.na(cp)),\n",
    "    cp_median = median(cp, na.rm = TRUE),\n",
    "    \n",
    "    chol_max = max(chol, na.rm = TRUE),\n",
    "    chol_min = min(chol, na.rm = TRUE),\n",
    "    chol_sd = sd(chol, na.rm = TRUE),\n",
    "    chol_n = sum(!is.na(chol)),\n",
    "    chol_median = median(chol, na.rm = TRUE))\n",
    "\n",
    "summary_table_individual\n",
    "\n",
    "summary_table_total <- heart_train |>\n",
    "  summarise(total = n(),\n",
    "    age_max = max(age, na.rm = TRUE),\n",
    "    age_min = min(age, na.rm = TRUE),\n",
    "    age_sd = sd(age, na.rm = TRUE),\n",
    "    age_n = sum(!is.na(age)),\n",
    "    age_median = median(age, na.rm = TRUE),\n",
    "    \n",
    "    cp_max = max(cp, na.rm = TRUE),\n",
    "    cp_min = min(cp, na.rm = TRUE),\n",
    "    cp_sd = sd(cp, na.rm = TRUE),\n",
    "    cp_n = sum(!is.na(cp)),\n",
    "    cp_median = median(cp, na.rm = TRUE),\n",
    "    \n",
    "    chol_max = max(chol, na.rm = TRUE),\n",
    "    chol_min = min(chol, na.rm = TRUE),\n",
    "    chol_sd = sd(chol, na.rm = TRUE),\n",
    "    chol_n = sum(!is.na(chol)),\n",
    "    chol_median = median(chol, na.rm = TRUE))\n",
    "\n",
    "summary_table_total \n",
    "\n",
    "scatter_plot_faceted <- ggplot(heart_train, aes(x = age, y = chol, color = heart_disease)) +\n",
    "  geom_point() +\n",
    "  labs(title = \"Scatter plot of Age vs. Cholesterol\",\n",
    "       x = \"Age\",\n",
    "       y = \"Serum Cholesterol (mg/dl)\") +\n",
    "  facet_wrap(~ cp)\n",
    "\n",
    "scatter_plot_faceted"
   ]
  },
  {
   "cell_type": "code",
   "execution_count": 8,
   "id": "e23b88bb-c483-4a68-a864-58f1b62b592c",
   "metadata": {},
   "outputs": [],
   "source": [
    "heart_recipe<-recipe(heart_disease~age+chol+cp, data=heart_train)|>\n",
    "  step_scale(all_predictors())|>\n",
    "  step_center(all_predictors())\n",
    "\n",
    "training_vfold<-vfold_cv(heart_train, v=5,strata=heart_disease)\n",
    "\n",
    "#need to explain why v = 5"
   ]
  },
  {
   "cell_type": "code",
   "execution_count": 9,
   "id": "5d062f7c-77cc-4262-a651-78858e2ad3dd",
   "metadata": {
    "tags": []
   },
   "outputs": [
    {
     "data": {
      "text/html": [
       "<table class=\"dataframe\">\n",
       "<caption>A tibble: 20 × 7</caption>\n",
       "<thead>\n",
       "\t<tr><th scope=col>neighbors</th><th scope=col>.metric</th><th scope=col>.estimator</th><th scope=col>mean</th><th scope=col>n</th><th scope=col>std_err</th><th scope=col>.config</th></tr>\n",
       "\t<tr><th scope=col>&lt;dbl&gt;</th><th scope=col>&lt;chr&gt;</th><th scope=col>&lt;chr&gt;</th><th scope=col>&lt;dbl&gt;</th><th scope=col>&lt;int&gt;</th><th scope=col>&lt;dbl&gt;</th><th scope=col>&lt;chr&gt;</th></tr>\n",
       "</thead>\n",
       "<tbody>\n",
       "\t<tr><td>16</td><td>accuracy</td><td>binary</td><td>0.7324927</td><td>5</td><td>0.01293799</td><td>Preprocessor1_Model04</td></tr>\n",
       "\t<tr><td>21</td><td>accuracy</td><td>binary</td><td>0.7142001</td><td>5</td><td>0.02170714</td><td>Preprocessor1_Model05</td></tr>\n",
       "\t<tr><td>11</td><td>accuracy</td><td>binary</td><td>0.7139887</td><td>5</td><td>0.01965400</td><td>Preprocessor1_Model03</td></tr>\n",
       "\t<tr><td>26</td><td>accuracy</td><td>binary</td><td>0.7053206</td><td>5</td><td>0.03763576</td><td>Preprocessor1_Model06</td></tr>\n",
       "\t<tr><td>31</td><td>accuracy</td><td>binary</td><td>0.6911507</td><td>5</td><td>0.02399278</td><td>Preprocessor1_Model07</td></tr>\n",
       "\t<tr><td>⋮</td><td>⋮</td><td>⋮</td><td>⋮</td><td>⋮</td><td>⋮</td><td>⋮</td></tr>\n",
       "\t<tr><td>76</td><td>accuracy</td><td>binary</td><td>0.6680006</td><td>5</td><td>0.01265056</td><td>Preprocessor1_Model16</td></tr>\n",
       "\t<tr><td>56</td><td>accuracy</td><td>binary</td><td>0.6635558</td><td>5</td><td>0.02379876</td><td>Preprocessor1_Model12</td></tr>\n",
       "\t<tr><td>61</td><td>accuracy</td><td>binary</td><td>0.6546864</td><td>5</td><td>0.01746116</td><td>Preprocessor1_Model13</td></tr>\n",
       "\t<tr><td>66</td><td>accuracy</td><td>binary</td><td>0.6499245</td><td>5</td><td>0.01399062</td><td>Preprocessor1_Model14</td></tr>\n",
       "\t<tr><td> 1</td><td>accuracy</td><td>binary</td><td>0.6366153</td><td>5</td><td>0.01933288</td><td>Preprocessor1_Model01</td></tr>\n",
       "</tbody>\n",
       "</table>\n"
      ],
      "text/latex": [
       "A tibble: 20 × 7\n",
       "\\begin{tabular}{lllllll}\n",
       " neighbors & .metric & .estimator & mean & n & std\\_err & .config\\\\\n",
       " <dbl> & <chr> & <chr> & <dbl> & <int> & <dbl> & <chr>\\\\\n",
       "\\hline\n",
       "\t 16 & accuracy & binary & 0.7324927 & 5 & 0.01293799 & Preprocessor1\\_Model04\\\\\n",
       "\t 21 & accuracy & binary & 0.7142001 & 5 & 0.02170714 & Preprocessor1\\_Model05\\\\\n",
       "\t 11 & accuracy & binary & 0.7139887 & 5 & 0.01965400 & Preprocessor1\\_Model03\\\\\n",
       "\t 26 & accuracy & binary & 0.7053206 & 5 & 0.03763576 & Preprocessor1\\_Model06\\\\\n",
       "\t 31 & accuracy & binary & 0.6911507 & 5 & 0.02399278 & Preprocessor1\\_Model07\\\\\n",
       "\t ⋮ & ⋮ & ⋮ & ⋮ & ⋮ & ⋮ & ⋮\\\\\n",
       "\t 76 & accuracy & binary & 0.6680006 & 5 & 0.01265056 & Preprocessor1\\_Model16\\\\\n",
       "\t 56 & accuracy & binary & 0.6635558 & 5 & 0.02379876 & Preprocessor1\\_Model12\\\\\n",
       "\t 61 & accuracy & binary & 0.6546864 & 5 & 0.01746116 & Preprocessor1\\_Model13\\\\\n",
       "\t 66 & accuracy & binary & 0.6499245 & 5 & 0.01399062 & Preprocessor1\\_Model14\\\\\n",
       "\t  1 & accuracy & binary & 0.6366153 & 5 & 0.01933288 & Preprocessor1\\_Model01\\\\\n",
       "\\end{tabular}\n"
      ],
      "text/markdown": [
       "\n",
       "A tibble: 20 × 7\n",
       "\n",
       "| neighbors &lt;dbl&gt; | .metric &lt;chr&gt; | .estimator &lt;chr&gt; | mean &lt;dbl&gt; | n &lt;int&gt; | std_err &lt;dbl&gt; | .config &lt;chr&gt; |\n",
       "|---|---|---|---|---|---|---|\n",
       "| 16 | accuracy | binary | 0.7324927 | 5 | 0.01293799 | Preprocessor1_Model04 |\n",
       "| 21 | accuracy | binary | 0.7142001 | 5 | 0.02170714 | Preprocessor1_Model05 |\n",
       "| 11 | accuracy | binary | 0.7139887 | 5 | 0.01965400 | Preprocessor1_Model03 |\n",
       "| 26 | accuracy | binary | 0.7053206 | 5 | 0.03763576 | Preprocessor1_Model06 |\n",
       "| 31 | accuracy | binary | 0.6911507 | 5 | 0.02399278 | Preprocessor1_Model07 |\n",
       "| ⋮ | ⋮ | ⋮ | ⋮ | ⋮ | ⋮ | ⋮ |\n",
       "| 76 | accuracy | binary | 0.6680006 | 5 | 0.01265056 | Preprocessor1_Model16 |\n",
       "| 56 | accuracy | binary | 0.6635558 | 5 | 0.02379876 | Preprocessor1_Model12 |\n",
       "| 61 | accuracy | binary | 0.6546864 | 5 | 0.01746116 | Preprocessor1_Model13 |\n",
       "| 66 | accuracy | binary | 0.6499245 | 5 | 0.01399062 | Preprocessor1_Model14 |\n",
       "|  1 | accuracy | binary | 0.6366153 | 5 | 0.01933288 | Preprocessor1_Model01 |\n",
       "\n"
      ],
      "text/plain": [
       "   neighbors .metric  .estimator mean      n std_err    .config              \n",
       "1  16        accuracy binary     0.7324927 5 0.01293799 Preprocessor1_Model04\n",
       "2  21        accuracy binary     0.7142001 5 0.02170714 Preprocessor1_Model05\n",
       "3  11        accuracy binary     0.7139887 5 0.01965400 Preprocessor1_Model03\n",
       "4  26        accuracy binary     0.7053206 5 0.03763576 Preprocessor1_Model06\n",
       "5  31        accuracy binary     0.6911507 5 0.02399278 Preprocessor1_Model07\n",
       "⋮  ⋮         ⋮        ⋮          ⋮         ⋮ ⋮          ⋮                    \n",
       "16 76        accuracy binary     0.6680006 5 0.01265056 Preprocessor1_Model16\n",
       "17 56        accuracy binary     0.6635558 5 0.02379876 Preprocessor1_Model12\n",
       "18 61        accuracy binary     0.6546864 5 0.01746116 Preprocessor1_Model13\n",
       "19 66        accuracy binary     0.6499245 5 0.01399062 Preprocessor1_Model14\n",
       "20  1        accuracy binary     0.6366153 5 0.01933288 Preprocessor1_Model01"
      ]
     },
     "metadata": {},
     "output_type": "display_data"
    },
    {
     "data": {
      "image/png": "[encoded data removed]",
      "text/plain": [
       "plot without title"
      ]
     },
     "metadata": {
      "image/png": {
       "height": 420,
       "width": 420
      }
     },
     "output_type": "display_data"
    }
   ],
   "source": [
    "#dont know if this is needed but finding best k value\n",
    "\n",
    "knn_spec<-nearest_neighbor(weight_func = \"rectangular\",neighbors = tune())|>\n",
    "set_engine(\"kknn\")|>\n",
    "set_mode(\"classification\")\n",
    "\n",
    "k=tibble(neighbors=seq(1,100,5))\n",
    "\n",
    "\n",
    "training_workflow<-workflow()|>\n",
    "add_recipe(heart_recipe)|>\n",
    "add_model(knn_spec)|>\n",
    "tune_grid(resamples=training_vfold, grid=k)|>\n",
    "collect_metrics()\n",
    "\n",
    "accuracy<-training_workflow|>\n",
    "filter(.metric==\"accuracy\") |>\n",
    "arrange(desc(mean))\n",
    "\n",
    "accuracy\n",
    "\n",
    "cross_val_plot<-accuracy|>\n",
    "ggplot(aes(x=neighbors,y=mean))+\n",
    "geom_point()+\n",
    "geom_line()+\n",
    "labs(x=\"Neighbors\", y=\"Accuracy Estimate\")\n",
    "cross_val_plot\n",
    "\n",
    "best_k = accuracy |>\n",
    "arrange(desc(mean)) |>\n",
    "slice(1) |>\n",
    "pull(neighbors)\n"
   ]
  },
  {
   "cell_type": "code",
   "execution_count": 10,
   "id": "ffab0725-4d96-48ac-ab2b-aff2703f14d7",
   "metadata": {},
   "outputs": [
    {
     "data": {
      "text/html": [
       "<table class=\"dataframe\">\n",
       "<caption>A tibble: 73 × 5</caption>\n",
       "<thead>\n",
       "\t<tr><th scope=col>.pred_class</th><th scope=col>age</th><th scope=col>cp</th><th scope=col>chol</th><th scope=col>heart_disease</th></tr>\n",
       "\t<tr><th scope=col>&lt;fct&gt;</th><th scope=col>&lt;dbl&gt;</th><th scope=col>&lt;dbl&gt;</th><th scope=col>&lt;dbl&gt;</th><th scope=col>&lt;fct&gt;</th></tr>\n",
       "</thead>\n",
       "<tbody>\n",
       "\t<tr><td>absent  </td><td>56</td><td>2</td><td>236</td><td>absent  </td></tr>\n",
       "\t<tr><td>presence</td><td>62</td><td>4</td><td>268</td><td>presence</td></tr>\n",
       "\t<tr><td>presence</td><td>57</td><td>4</td><td>354</td><td>absent  </td></tr>\n",
       "\t<tr><td>absent  </td><td>44</td><td>2</td><td>263</td><td>absent  </td></tr>\n",
       "\t<tr><td>absent  </td><td>52</td><td>3</td><td>199</td><td>absent  </td></tr>\n",
       "\t<tr><td>⋮</td><td>⋮</td><td>⋮</td><td>⋮</td><td>⋮</td></tr>\n",
       "\t<tr><td>absent  </td><td>35</td><td>2</td><td>192</td><td>absent  </td></tr>\n",
       "\t<tr><td>presence</td><td>61</td><td>4</td><td>203</td><td>presence</td></tr>\n",
       "\t<tr><td>absent  </td><td>45</td><td>1</td><td>264</td><td>presence</td></tr>\n",
       "\t<tr><td>presence</td><td>68</td><td>4</td><td>193</td><td>presence</td></tr>\n",
       "\t<tr><td>absent  </td><td>38</td><td>3</td><td>175</td><td>absent  </td></tr>\n",
       "</tbody>\n",
       "</table>\n"
      ],
      "text/latex": [
       "A tibble: 73 × 5\n",
       "\\begin{tabular}{lllll}\n",
       " .pred\\_class & age & cp & chol & heart\\_disease\\\\\n",
       " <fct> & <dbl> & <dbl> & <dbl> & <fct>\\\\\n",
       "\\hline\n",
       "\t absent   & 56 & 2 & 236 & absent  \\\\\n",
       "\t presence & 62 & 4 & 268 & presence\\\\\n",
       "\t presence & 57 & 4 & 354 & absent  \\\\\n",
       "\t absent   & 44 & 2 & 263 & absent  \\\\\n",
       "\t absent   & 52 & 3 & 199 & absent  \\\\\n",
       "\t ⋮ & ⋮ & ⋮ & ⋮ & ⋮\\\\\n",
       "\t absent   & 35 & 2 & 192 & absent  \\\\\n",
       "\t presence & 61 & 4 & 203 & presence\\\\\n",
       "\t absent   & 45 & 1 & 264 & presence\\\\\n",
       "\t presence & 68 & 4 & 193 & presence\\\\\n",
       "\t absent   & 38 & 3 & 175 & absent  \\\\\n",
       "\\end{tabular}\n"
      ],
      "text/markdown": [
       "\n",
       "A tibble: 73 × 5\n",
       "\n",
       "| .pred_class &lt;fct&gt; | age &lt;dbl&gt; | cp &lt;dbl&gt; | chol &lt;dbl&gt; | heart_disease &lt;fct&gt; |\n",
       "|---|---|---|---|---|\n",
       "| absent   | 56 | 2 | 236 | absent   |\n",
       "| presence | 62 | 4 | 268 | presence |\n",
       "| presence | 57 | 4 | 354 | absent   |\n",
       "| absent   | 44 | 2 | 263 | absent   |\n",
       "| absent   | 52 | 3 | 199 | absent   |\n",
       "| ⋮ | ⋮ | ⋮ | ⋮ | ⋮ |\n",
       "| absent   | 35 | 2 | 192 | absent   |\n",
       "| presence | 61 | 4 | 203 | presence |\n",
       "| absent   | 45 | 1 | 264 | presence |\n",
       "| presence | 68 | 4 | 193 | presence |\n",
       "| absent   | 38 | 3 | 175 | absent   |\n",
       "\n"
      ],
      "text/plain": [
       "   .pred_class age cp chol heart_disease\n",
       "1  absent      56  2  236  absent       \n",
       "2  presence    62  4  268  presence     \n",
       "3  presence    57  4  354  absent       \n",
       "4  absent      44  2  263  absent       \n",
       "5  absent      52  3  199  absent       \n",
       "⋮  ⋮           ⋮   ⋮  ⋮    ⋮            \n",
       "69 absent      35  2  192  absent       \n",
       "70 presence    61  4  203  presence     \n",
       "71 absent      45  1  264  presence     \n",
       "72 presence    68  4  193  presence     \n",
       "73 absent      38  3  175  absent       "
      ]
     },
     "metadata": {},
     "output_type": "display_data"
    }
   ],
   "source": [
    "best_spec = nearest_neighbor(weight_func = \"rectangular\", neighbors = best_k) |> \n",
    "set_engine(\"kknn\") |>\n",
    "set_mode(\"classification\")\n",
    "\n",
    "data_best_fit = workflow() |>\n",
    "add_recipe(heart_recipe) |>\n",
    "add_model(best_spec) |>\n",
    "fit(data = heart_train) \n",
    "\n",
    "data_prediciton = predict(data_best_fit, heart_test) |>\n",
    "bind_cols(heart_test)\n",
    "\n",
    "data_prediciton"
   ]
  },
  {
   "cell_type": "code",
   "execution_count": 11,
   "id": "f3cacb6a-6825-454b-9c36-a0181136f602",
   "metadata": {},
   "outputs": [
    {
     "data": {
      "text/html": [
       "<table class=\"dataframe\">\n",
       "<caption>A tibble: 2 × 2</caption>\n",
       "<thead>\n",
       "\t<tr><th scope=col>.metric</th><th scope=col>.estimate</th></tr>\n",
       "\t<tr><th scope=col>&lt;chr&gt;</th><th scope=col>&lt;dbl&gt;</th></tr>\n",
       "</thead>\n",
       "<tbody>\n",
       "\t<tr><td>accuracy</td><td>0.7534247</td></tr>\n",
       "\t<tr><td>kap     </td><td>0.4957790</td></tr>\n",
       "</tbody>\n",
       "</table>\n"
      ],
      "text/latex": [
       "A tibble: 2 × 2\n",
       "\\begin{tabular}{ll}\n",
       " .metric & .estimate\\\\\n",
       " <chr> & <dbl>\\\\\n",
       "\\hline\n",
       "\t accuracy & 0.7534247\\\\\n",
       "\t kap      & 0.4957790\\\\\n",
       "\\end{tabular}\n"
      ],
      "text/markdown": [
       "\n",
       "A tibble: 2 × 2\n",
       "\n",
       "| .metric &lt;chr&gt; | .estimate &lt;dbl&gt; |\n",
       "|---|---|\n",
       "| accuracy | 0.7534247 |\n",
       "| kap      | 0.4957790 |\n",
       "\n"
      ],
      "text/plain": [
       "  .metric  .estimate\n",
       "1 accuracy 0.7534247\n",
       "2 kap      0.4957790"
      ]
     },
     "metadata": {},
     "output_type": "display_data"
    }
   ],
   "source": [
    "data_accurcies = data_prediciton |>\n",
    "metrics(truth = heart_disease, estimate = .pred_class) |>\n",
    "select(.metric, .estimate)\n",
    "\n",
    "data_accurcies"
   ]
  },
  {
   "cell_type": "code",
   "execution_count": 12,
   "id": "47133a2f-3775-45c9-b65a-fc9438637875",
   "metadata": {},
   "outputs": [
    {
     "data": {
      "text/plain": [
       "          Truth\n",
       "Prediction absent presence\n",
       "  absent       33       10\n",
       "  presence      8       22"
      ]
     },
     "metadata": {},
     "output_type": "display_data"
    }
   ],
   "source": [
    "data_conf_mat = data_prediciton |>\n",
    "conf_mat(truth = heart_disease, estimate = .pred_class)\n",
    "data_conf_mat"
   ]
  },
  {
   "cell_type": "code",
   "execution_count": 13,
   "id": "6c25c69a-05fa-4adf-944f-dada3fcb6046",
   "metadata": {},
   "outputs": [
    {
     "data": {
      "text/html": [
       "<table class=\"dataframe\">\n",
       "<caption>A tibble: 1 × 1</caption>\n",
       "<thead>\n",
       "\t<tr><th scope=col>.pred_class</th></tr>\n",
       "\t<tr><th scope=col>&lt;fct&gt;</th></tr>\n",
       "</thead>\n",
       "<tbody>\n",
       "\t<tr><td>presence</td></tr>\n",
       "</tbody>\n",
       "</table>\n"
      ],
      "text/latex": [
       "A tibble: 1 × 1\n",
       "\\begin{tabular}{l}\n",
       " .pred\\_class\\\\\n",
       " <fct>\\\\\n",
       "\\hline\n",
       "\t presence\\\\\n",
       "\\end{tabular}\n"
      ],
      "text/markdown": [
       "\n",
       "A tibble: 1 × 1\n",
       "\n",
       "| .pred_class &lt;fct&gt; |\n",
       "|---|\n",
       "| presence |\n",
       "\n"
      ],
      "text/plain": [
       "  .pred_class\n",
       "1 presence   "
      ]
     },
     "metadata": {},
     "output_type": "display_data"
    }
   ],
   "source": [
    "new_observation <- tibble(\n",
    "  age = 64,\n",
    "  chol = 250,\n",
    "  cp = 4\n",
    ")\n",
    "\n",
    "new_prediction <- predict(data_best_fit, new_observation)\n",
    "new_prediction"
   ]
  }
 ],
 "metadata": {
  "kernelspec": {
   "display_name": "R",
   "language": "R",
   "name": "ir"
  },
  "language_info": {
   "codemirror_mode": "r",
   "file_extension": ".r",
   "mimetype": "text/x-r-source",
   "name": "R",
   "pygments_lexer": "r",
   "version": "4.1.3"
  }
 },
 "nbformat": 4,
 "nbformat_minor": 5
}
