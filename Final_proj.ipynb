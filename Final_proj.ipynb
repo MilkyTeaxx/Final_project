{
 "cells": [
  {
   "cell_type": "markdown",
   "id": "a91c0fc5-4d88-4190-b377-da945d41c455",
   "metadata": {},
   "source": [
    "<font size=\"6\">**DSCI 100 group 24 project proposal**</font>\n",
    "<br>\n",
    "<br><font size=\"4\">**Introduction:**</font>\n",
    "<br>\n",
    "<br>Heart disease is a serious issue affecting many people worldwide. Many factors can put people at risk of having heart disease such as cholesterol, blood pressure, and age.\n",
    "In this study, we will be exploring and predicting if a person has heart disease given their attributes such as gender, age, serum cholesterol etc. \n",
    "We will be trying to answer the question:  “Are age, chest pain type, resting blood pressure, cholesterol and maximum heart rate predictors of heart disease?”\n",
    "In our project, we will be using the heart disease data set for cleveland, which contains 14 different attributes:\n",
    "1. Age (in years)\n",
    "2. Sex (1 = male; 0 = female)\n",
    "3. cp: chest pain type (1 = typical angina, 2 = atypical angina, 3 = non-anginal pain, 4 = asymptomatic)\n",
    "4. trestbps: resting blood pressure (in mm Hg on admission to the hospital)\n",
    "5. chol: serum cholesterol in mg/dl\n",
    "6. fbs: fasting blood sugar > 120 mg/dl (1 = true; 0 = false)\n",
    "7. restecg: resting electrocardiographic results (0 = normal, 1 = having ST-T wave abnormality (T wave inversions and/or ST elevation or depression of > 0.05 mV), 2 = showing probable or definite left ventricular hypertrophy by Estes' criteria)\n",
    "8. Thalach: maximum heart rate achieved\n",
    "9. exang: exercise induced angina (1 = yes; 0 = no)\n",
    "10. oldpeak: ST depression induced by exercise relative to rest\n",
    "11. slope: the slope of the peak exercise ST segment (1 = upsloping, 2 = flat, 3 = downsloping)\n",
    "12. ca: number of major vessels (0-3) colored by flourosopy\n",
    "13. thal: 3 = normal; 6 = fixed defect; 7 = reversable defect\n",
    "14. num: diagnosis of heart disease (angiographic disease status) (0 = < 50% diameter narrowing, 1 = > 50% diameter narrowing)\n"
   ]
  },
  {
   "cell_type": "code",
   "execution_count": 1,
   "id": "4167f042-ef5c-4024-aa2d-c438f4cb156e",
   "metadata": {},
   "outputs": [
    {
     "name": "stderr",
     "output_type": "stream",
     "text": [
      "── \u001b[1mAttaching packages\u001b[22m ─────────────────────────────────────── tidyverse 1.3.1 ──\n",
      "\n",
      "\u001b[32m✔\u001b[39m \u001b[34mggplot2\u001b[39m 3.3.6     \u001b[32m✔\u001b[39m \u001b[34mpurrr  \u001b[39m 0.3.4\n",
      "\u001b[32m✔\u001b[39m \u001b[34mtibble \u001b[39m 3.1.7     \u001b[32m✔\u001b[39m \u001b[34mdplyr  \u001b[39m 1.0.9\n",
      "\u001b[32m✔\u001b[39m \u001b[34mtidyr  \u001b[39m 1.2.0     \u001b[32m✔\u001b[39m \u001b[34mstringr\u001b[39m 1.4.0\n",
      "\u001b[32m✔\u001b[39m \u001b[34mreadr  \u001b[39m 2.1.2     \u001b[32m✔\u001b[39m \u001b[34mforcats\u001b[39m 0.5.1\n",
      "\n",
      "── \u001b[1mConflicts\u001b[22m ────────────────────────────────────────── tidyverse_conflicts() ──\n",
      "\u001b[31m✖\u001b[39m \u001b[34mdplyr\u001b[39m::\u001b[32mfilter()\u001b[39m masks \u001b[34mstats\u001b[39m::filter()\n",
      "\u001b[31m✖\u001b[39m \u001b[34mdplyr\u001b[39m::\u001b[32mlag()\u001b[39m    masks \u001b[34mstats\u001b[39m::lag()\n",
      "\n",
      "── \u001b[1mAttaching packages\u001b[22m ────────────────────────────────────── tidymodels 1.0.0 ──\n",
      "\n",
      "\u001b[32m✔\u001b[39m \u001b[34mbroom       \u001b[39m 1.0.0     \u001b[32m✔\u001b[39m \u001b[34mrsample     \u001b[39m 1.0.0\n",
      "\u001b[32m✔\u001b[39m \u001b[34mdials       \u001b[39m 1.0.0     \u001b[32m✔\u001b[39m \u001b[34mtune        \u001b[39m 1.0.0\n",
      "\u001b[32m✔\u001b[39m \u001b[34minfer       \u001b[39m 1.0.2     \u001b[32m✔\u001b[39m \u001b[34mworkflows   \u001b[39m 1.0.0\n",
      "\u001b[32m✔\u001b[39m \u001b[34mmodeldata   \u001b[39m 1.0.0     \u001b[32m✔\u001b[39m \u001b[34mworkflowsets\u001b[39m 1.0.0\n",
      "\u001b[32m✔\u001b[39m \u001b[34mparsnip     \u001b[39m 1.0.0     \u001b[32m✔\u001b[39m \u001b[34myardstick   \u001b[39m 1.0.0\n",
      "\u001b[32m✔\u001b[39m \u001b[34mrecipes     \u001b[39m 1.0.1     \n",
      "\n",
      "── \u001b[1mConflicts\u001b[22m ───────────────────────────────────────── tidymodels_conflicts() ──\n",
      "\u001b[31m✖\u001b[39m \u001b[34mscales\u001b[39m::\u001b[32mdiscard()\u001b[39m masks \u001b[34mpurrr\u001b[39m::discard()\n",
      "\u001b[31m✖\u001b[39m \u001b[34mdplyr\u001b[39m::\u001b[32mfilter()\u001b[39m   masks \u001b[34mstats\u001b[39m::filter()\n",
      "\u001b[31m✖\u001b[39m \u001b[34mrecipes\u001b[39m::\u001b[32mfixed()\u001b[39m  masks \u001b[34mstringr\u001b[39m::fixed()\n",
      "\u001b[31m✖\u001b[39m \u001b[34mdplyr\u001b[39m::\u001b[32mlag()\u001b[39m      masks \u001b[34mstats\u001b[39m::lag()\n",
      "\u001b[31m✖\u001b[39m \u001b[34myardstick\u001b[39m::\u001b[32mspec()\u001b[39m masks \u001b[34mreadr\u001b[39m::spec()\n",
      "\u001b[31m✖\u001b[39m \u001b[34mrecipes\u001b[39m::\u001b[32mstep()\u001b[39m   masks \u001b[34mstats\u001b[39m::step()\n",
      "\u001b[34m•\u001b[39m Dig deeper into tidy modeling with R at \u001b[32mhttps://www.tmwr.org\u001b[39m\n",
      "\n"
     ]
    }
   ],
   "source": [
    "#These are the packages we will use for analyzing our dataset:\n",
    "library(tidyverse)\n",
    "library(tidymodels)\n",
    "library(repr)\n",
    "library(digest)\n",
    "options(repr.matrix.max.rows = 6)"
   ]
  },
  {
   "cell_type": "code",
   "execution_count": 2,
   "id": "91b8ed8b-3f41-481c-a32a-147707a89829",
   "metadata": {},
   "outputs": [],
   "source": [
    "set.seed(1)"
   ]
  },
  {
   "cell_type": "markdown",
   "id": "f02c95c4-a3cb-40d7-b40b-a7cad9aace3e",
   "metadata": {},
   "source": [
    "<font size=\"4\">**Preliminary exploratory data analysis:**</font>"
   ]
  },
  {
   "cell_type": "code",
   "execution_count": 3,
   "id": "913d4c9b-d550-4161-afbd-e4ea953c41d0",
   "metadata": {},
   "outputs": [
    {
     "name": "stderr",
     "output_type": "stream",
     "text": [
      "\u001b[1mRows: \u001b[22m\u001b[34m303\u001b[39m \u001b[1mColumns: \u001b[22m\u001b[34m14\u001b[39m\n",
      "\u001b[36m──\u001b[39m \u001b[1mColumn specification\u001b[22m \u001b[36m────────────────────────────────────────────────────────\u001b[39m\n",
      "\u001b[1mDelimiter:\u001b[22m \",\"\n",
      "\u001b[31mchr\u001b[39m  (2): ca, thal\n",
      "\u001b[32mdbl\u001b[39m (12): age, sex, cp, trestbps, chol, fbs, restecg, thalach, exang, oldpea...\n",
      "\n",
      "\u001b[36mℹ\u001b[39m Use `spec()` to retrieve the full column specification for this data.\n",
      "\u001b[36mℹ\u001b[39m Specify the column types or set `show_col_types = FALSE` to quiet this message.\n"
     ]
    },
    {
     "data": {
      "text/html": [
       "<table class=\"dataframe\">\n",
       "<caption>A tibble: 303 × 15</caption>\n",
       "<thead>\n",
       "\t<tr><th scope=col>age</th><th scope=col>sex</th><th scope=col>cp</th><th scope=col>trestbps</th><th scope=col>chol</th><th scope=col>fbs</th><th scope=col>restecg</th><th scope=col>thalach</th><th scope=col>exang</th><th scope=col>oldpeak</th><th scope=col>slope</th><th scope=col>ca</th><th scope=col>thal</th><th scope=col>num</th><th scope=col>heart_disease</th></tr>\n",
       "\t<tr><th scope=col>&lt;dbl&gt;</th><th scope=col>&lt;dbl&gt;</th><th scope=col>&lt;dbl&gt;</th><th scope=col>&lt;dbl&gt;</th><th scope=col>&lt;dbl&gt;</th><th scope=col>&lt;dbl&gt;</th><th scope=col>&lt;dbl&gt;</th><th scope=col>&lt;dbl&gt;</th><th scope=col>&lt;dbl&gt;</th><th scope=col>&lt;dbl&gt;</th><th scope=col>&lt;dbl&gt;</th><th scope=col>&lt;chr&gt;</th><th scope=col>&lt;chr&gt;</th><th scope=col>&lt;dbl&gt;</th><th scope=col>&lt;chr&gt;</th></tr>\n",
       "</thead>\n",
       "<tbody>\n",
       "\t<tr><td>63</td><td>1</td><td>1</td><td>145</td><td>233</td><td>1</td><td>2</td><td>150</td><td>0</td><td>2.3</td><td>3</td><td>0.0</td><td>6.0</td><td>0</td><td>absent  </td></tr>\n",
       "\t<tr><td>67</td><td>1</td><td>4</td><td>160</td><td>286</td><td>0</td><td>2</td><td>108</td><td>1</td><td>1.5</td><td>2</td><td>3.0</td><td>3.0</td><td>2</td><td>presence</td></tr>\n",
       "\t<tr><td>67</td><td>1</td><td>4</td><td>120</td><td>229</td><td>0</td><td>2</td><td>129</td><td>1</td><td>2.6</td><td>2</td><td>2.0</td><td>7.0</td><td>1</td><td>presence</td></tr>\n",
       "\t<tr><td>⋮</td><td>⋮</td><td>⋮</td><td>⋮</td><td>⋮</td><td>⋮</td><td>⋮</td><td>⋮</td><td>⋮</td><td>⋮</td><td>⋮</td><td>⋮</td><td>⋮</td><td>⋮</td><td>⋮</td></tr>\n",
       "\t<tr><td>57</td><td>1</td><td>4</td><td>130</td><td>131</td><td>0</td><td>0</td><td>115</td><td>1</td><td>1.2</td><td>2</td><td>1.0</td><td>7.0</td><td>3</td><td>presence</td></tr>\n",
       "\t<tr><td>57</td><td>0</td><td>2</td><td>130</td><td>236</td><td>0</td><td>2</td><td>174</td><td>0</td><td>0.0</td><td>2</td><td>1.0</td><td>3.0</td><td>1</td><td>presence</td></tr>\n",
       "\t<tr><td>38</td><td>1</td><td>3</td><td>138</td><td>175</td><td>0</td><td>0</td><td>173</td><td>0</td><td>0.0</td><td>1</td><td>?  </td><td>3.0</td><td>0</td><td>absent  </td></tr>\n",
       "</tbody>\n",
       "</table>\n"
      ],
      "text/latex": [
       "A tibble: 303 × 15\n",
       "\\begin{tabular}{lllllllllllllll}\n",
       " age & sex & cp & trestbps & chol & fbs & restecg & thalach & exang & oldpeak & slope & ca & thal & num & heart\\_disease\\\\\n",
       " <dbl> & <dbl> & <dbl> & <dbl> & <dbl> & <dbl> & <dbl> & <dbl> & <dbl> & <dbl> & <dbl> & <chr> & <chr> & <dbl> & <chr>\\\\\n",
       "\\hline\n",
       "\t 63 & 1 & 1 & 145 & 233 & 1 & 2 & 150 & 0 & 2.3 & 3 & 0.0 & 6.0 & 0 & absent  \\\\\n",
       "\t 67 & 1 & 4 & 160 & 286 & 0 & 2 & 108 & 1 & 1.5 & 2 & 3.0 & 3.0 & 2 & presence\\\\\n",
       "\t 67 & 1 & 4 & 120 & 229 & 0 & 2 & 129 & 1 & 2.6 & 2 & 2.0 & 7.0 & 1 & presence\\\\\n",
       "\t ⋮ & ⋮ & ⋮ & ⋮ & ⋮ & ⋮ & ⋮ & ⋮ & ⋮ & ⋮ & ⋮ & ⋮ & ⋮ & ⋮ & ⋮\\\\\n",
       "\t 57 & 1 & 4 & 130 & 131 & 0 & 0 & 115 & 1 & 1.2 & 2 & 1.0 & 7.0 & 3 & presence\\\\\n",
       "\t 57 & 0 & 2 & 130 & 236 & 0 & 2 & 174 & 0 & 0.0 & 2 & 1.0 & 3.0 & 1 & presence\\\\\n",
       "\t 38 & 1 & 3 & 138 & 175 & 0 & 0 & 173 & 0 & 0.0 & 1 & ?   & 3.0 & 0 & absent  \\\\\n",
       "\\end{tabular}\n"
      ],
      "text/markdown": [
       "\n",
       "A tibble: 303 × 15\n",
       "\n",
       "| age &lt;dbl&gt; | sex &lt;dbl&gt; | cp &lt;dbl&gt; | trestbps &lt;dbl&gt; | chol &lt;dbl&gt; | fbs &lt;dbl&gt; | restecg &lt;dbl&gt; | thalach &lt;dbl&gt; | exang &lt;dbl&gt; | oldpeak &lt;dbl&gt; | slope &lt;dbl&gt; | ca &lt;chr&gt; | thal &lt;chr&gt; | num &lt;dbl&gt; | heart_disease &lt;chr&gt; |\n",
       "|---|---|---|---|---|---|---|---|---|---|---|---|---|---|---|\n",
       "| 63 | 1 | 1 | 145 | 233 | 1 | 2 | 150 | 0 | 2.3 | 3 | 0.0 | 6.0 | 0 | absent   |\n",
       "| 67 | 1 | 4 | 160 | 286 | 0 | 2 | 108 | 1 | 1.5 | 2 | 3.0 | 3.0 | 2 | presence |\n",
       "| 67 | 1 | 4 | 120 | 229 | 0 | 2 | 129 | 1 | 2.6 | 2 | 2.0 | 7.0 | 1 | presence |\n",
       "| ⋮ | ⋮ | ⋮ | ⋮ | ⋮ | ⋮ | ⋮ | ⋮ | ⋮ | ⋮ | ⋮ | ⋮ | ⋮ | ⋮ | ⋮ |\n",
       "| 57 | 1 | 4 | 130 | 131 | 0 | 0 | 115 | 1 | 1.2 | 2 | 1.0 | 7.0 | 3 | presence |\n",
       "| 57 | 0 | 2 | 130 | 236 | 0 | 2 | 174 | 0 | 0.0 | 2 | 1.0 | 3.0 | 1 | presence |\n",
       "| 38 | 1 | 3 | 138 | 175 | 0 | 0 | 173 | 0 | 0.0 | 1 | ?   | 3.0 | 0 | absent   |\n",
       "\n"
      ],
      "text/plain": [
       "    age sex cp trestbps chol fbs restecg thalach exang oldpeak slope ca  thal\n",
       "1   63  1   1  145      233  1   2       150     0     2.3     3     0.0 6.0 \n",
       "2   67  1   4  160      286  0   2       108     1     1.5     2     3.0 3.0 \n",
       "3   67  1   4  120      229  0   2       129     1     2.6     2     2.0 7.0 \n",
       "⋮   ⋮   ⋮   ⋮  ⋮        ⋮    ⋮   ⋮       ⋮       ⋮     ⋮       ⋮     ⋮   ⋮   \n",
       "301 57  1   4  130      131  0   0       115     1     1.2     2     1.0 7.0 \n",
       "302 57  0   2  130      236  0   2       174     0     0.0     2     1.0 3.0 \n",
       "303 38  1   3  138      175  0   0       173     0     0.0     1     ?   3.0 \n",
       "    num heart_disease\n",
       "1   0   absent       \n",
       "2   2   presence     \n",
       "3   1   presence     \n",
       "⋮   ⋮   ⋮            \n",
       "301 3   presence     \n",
       "302 1   presence     \n",
       "303 0   absent       "
      ]
     },
     "metadata": {},
     "output_type": "display_data"
    }
   ],
   "source": [
    "data <- read_csv(\"https://archive.ics.uci.edu/ml/machine-learning-databases/heart-disease/processed.cleveland.data\", col_names=c(\"age\",\"sex\",\"cp\",\"trestbps\",\"chol\",\"fbs\",\"restecg\",\"thalach\",\"exang\",\"oldpeak\",\"slope\",\"ca\",\"thal\",\"num\"))\n",
    "\n",
    "data_mutated = data |>\n",
    "mutate(heart_disease = case_when(num == 0 ~ \"absent\",\n",
    "                                 num == 1 ~ \"presence\",\n",
    "                                 num == 2 ~ \"presence\",\n",
    "                                 num == 3 ~ \"presence\"))\n",
    "\n",
    "data_mutated"
   ]
  },
  {
   "cell_type": "code",
   "execution_count": 4,
   "id": "d8639874-7388-4f63-957e-4ddd303dab71",
   "metadata": {},
   "outputs": [],
   "source": [
    "#Using only training data, summarize the data in at least one table (this is exploratory data analysis). \n",
    "#An example of a useful table could be one that reports the number of observations in each class, the means of the \n",
    "#predictor variables you plan to use in your analysis and how many rows have missing data. \n",
    "#Using only training data, visualize the data with at least one plot relevant to the analysis you plan to do \n",
    "#(this is exploratory data analysis). An example of a useful visualization could be one that compares the distributions of each of the\n",
    "#predictor variables you plan to use in your analysis."
   ]
  },
  {
   "cell_type": "code",
   "execution_count": 5,
   "id": "e4999fd6-8806-4887-8d0d-bae0b26c21a6",
   "metadata": {},
   "outputs": [
    {
     "data": {
      "text/html": [
       "<table class=\"dataframe\">\n",
       "<caption>A tibble: 226 × 15</caption>\n",
       "<thead>\n",
       "\t<tr><th scope=col>age</th><th scope=col>sex</th><th scope=col>cp</th><th scope=col>trestbps</th><th scope=col>chol</th><th scope=col>fbs</th><th scope=col>restecg</th><th scope=col>thalach</th><th scope=col>exang</th><th scope=col>oldpeak</th><th scope=col>slope</th><th scope=col>ca</th><th scope=col>thal</th><th scope=col>num</th><th scope=col>heart_disease</th></tr>\n",
       "\t<tr><th scope=col>&lt;dbl&gt;</th><th scope=col>&lt;dbl&gt;</th><th scope=col>&lt;dbl&gt;</th><th scope=col>&lt;dbl&gt;</th><th scope=col>&lt;dbl&gt;</th><th scope=col>&lt;dbl&gt;</th><th scope=col>&lt;dbl&gt;</th><th scope=col>&lt;dbl&gt;</th><th scope=col>&lt;dbl&gt;</th><th scope=col>&lt;dbl&gt;</th><th scope=col>&lt;dbl&gt;</th><th scope=col>&lt;chr&gt;</th><th scope=col>&lt;chr&gt;</th><th scope=col>&lt;dbl&gt;</th><th scope=col>&lt;chr&gt;</th></tr>\n",
       "</thead>\n",
       "<tbody>\n",
       "\t<tr><td>37</td><td>1</td><td>3</td><td>130</td><td>250</td><td>0</td><td>0</td><td>187</td><td>0</td><td>3.5</td><td>3</td><td>0.0</td><td>3.0</td><td>0</td><td>absent</td></tr>\n",
       "\t<tr><td>41</td><td>0</td><td>2</td><td>130</td><td>204</td><td>0</td><td>2</td><td>172</td><td>0</td><td>1.4</td><td>1</td><td>0.0</td><td>3.0</td><td>0</td><td>absent</td></tr>\n",
       "\t<tr><td>43</td><td>1</td><td>4</td><td>150</td><td>247</td><td>0</td><td>0</td><td>171</td><td>0</td><td>1.5</td><td>1</td><td>0.0</td><td>3.0</td><td>0</td><td>absent</td></tr>\n",
       "\t<tr><td>⋮</td><td>⋮</td><td>⋮</td><td>⋮</td><td>⋮</td><td>⋮</td><td>⋮</td><td>⋮</td><td>⋮</td><td>⋮</td><td>⋮</td><td>⋮</td><td>⋮</td><td>⋮</td><td>⋮</td></tr>\n",
       "\t<tr><td>66</td><td>0</td><td>3</td><td>146</td><td>278</td><td>0</td><td>2</td><td>152</td><td>0</td><td>0</td><td>2</td><td>1.0</td><td>3.0</td><td>0</td><td>absent  </td></tr>\n",
       "\t<tr><td>63</td><td>1</td><td>4</td><td>140</td><td>187</td><td>0</td><td>2</td><td>144</td><td>1</td><td>4</td><td>1</td><td>2.0</td><td>7.0</td><td>2</td><td>presence</td></tr>\n",
       "\t<tr><td>63</td><td>0</td><td>4</td><td>124</td><td>197</td><td>0</td><td>0</td><td>136</td><td>1</td><td>0</td><td>2</td><td>0.0</td><td>3.0</td><td>1</td><td>presence</td></tr>\n",
       "</tbody>\n",
       "</table>\n"
      ],
      "text/latex": [
       "A tibble: 226 × 15\n",
       "\\begin{tabular}{lllllllllllllll}\n",
       " age & sex & cp & trestbps & chol & fbs & restecg & thalach & exang & oldpeak & slope & ca & thal & num & heart\\_disease\\\\\n",
       " <dbl> & <dbl> & <dbl> & <dbl> & <dbl> & <dbl> & <dbl> & <dbl> & <dbl> & <dbl> & <dbl> & <chr> & <chr> & <dbl> & <chr>\\\\\n",
       "\\hline\n",
       "\t 37 & 1 & 3 & 130 & 250 & 0 & 0 & 187 & 0 & 3.5 & 3 & 0.0 & 3.0 & 0 & absent\\\\\n",
       "\t 41 & 0 & 2 & 130 & 204 & 0 & 2 & 172 & 0 & 1.4 & 1 & 0.0 & 3.0 & 0 & absent\\\\\n",
       "\t 43 & 1 & 4 & 150 & 247 & 0 & 0 & 171 & 0 & 1.5 & 1 & 0.0 & 3.0 & 0 & absent\\\\\n",
       "\t ⋮ & ⋮ & ⋮ & ⋮ & ⋮ & ⋮ & ⋮ & ⋮ & ⋮ & ⋮ & ⋮ & ⋮ & ⋮ & ⋮ & ⋮\\\\\n",
       "\t 66 & 0 & 3 & 146 & 278 & 0 & 2 & 152 & 0 & 0 & 2 & 1.0 & 3.0 & 0 & absent  \\\\\n",
       "\t 63 & 1 & 4 & 140 & 187 & 0 & 2 & 144 & 1 & 4 & 1 & 2.0 & 7.0 & 2 & presence\\\\\n",
       "\t 63 & 0 & 4 & 124 & 197 & 0 & 0 & 136 & 1 & 0 & 2 & 0.0 & 3.0 & 1 & presence\\\\\n",
       "\\end{tabular}\n"
      ],
      "text/markdown": [
       "\n",
       "A tibble: 226 × 15\n",
       "\n",
       "| age &lt;dbl&gt; | sex &lt;dbl&gt; | cp &lt;dbl&gt; | trestbps &lt;dbl&gt; | chol &lt;dbl&gt; | fbs &lt;dbl&gt; | restecg &lt;dbl&gt; | thalach &lt;dbl&gt; | exang &lt;dbl&gt; | oldpeak &lt;dbl&gt; | slope &lt;dbl&gt; | ca &lt;chr&gt; | thal &lt;chr&gt; | num &lt;dbl&gt; | heart_disease &lt;chr&gt; |\n",
       "|---|---|---|---|---|---|---|---|---|---|---|---|---|---|---|\n",
       "| 37 | 1 | 3 | 130 | 250 | 0 | 0 | 187 | 0 | 3.5 | 3 | 0.0 | 3.0 | 0 | absent |\n",
       "| 41 | 0 | 2 | 130 | 204 | 0 | 2 | 172 | 0 | 1.4 | 1 | 0.0 | 3.0 | 0 | absent |\n",
       "| 43 | 1 | 4 | 150 | 247 | 0 | 0 | 171 | 0 | 1.5 | 1 | 0.0 | 3.0 | 0 | absent |\n",
       "| ⋮ | ⋮ | ⋮ | ⋮ | ⋮ | ⋮ | ⋮ | ⋮ | ⋮ | ⋮ | ⋮ | ⋮ | ⋮ | ⋮ | ⋮ |\n",
       "| 66 | 0 | 3 | 146 | 278 | 0 | 2 | 152 | 0 | 0 | 2 | 1.0 | 3.0 | 0 | absent   |\n",
       "| 63 | 1 | 4 | 140 | 187 | 0 | 2 | 144 | 1 | 4 | 1 | 2.0 | 7.0 | 2 | presence |\n",
       "| 63 | 0 | 4 | 124 | 197 | 0 | 0 | 136 | 1 | 0 | 2 | 0.0 | 3.0 | 1 | presence |\n",
       "\n"
      ],
      "text/plain": [
       "    age sex cp trestbps chol fbs restecg thalach exang oldpeak slope ca  thal\n",
       "1   37  1   3  130      250  0   0       187     0     3.5     3     0.0 3.0 \n",
       "2   41  0   2  130      204  0   2       172     0     1.4     1     0.0 3.0 \n",
       "3   43  1   4  150      247  0   0       171     0     1.5     1     0.0 3.0 \n",
       "⋮   ⋮   ⋮   ⋮  ⋮        ⋮    ⋮   ⋮       ⋮       ⋮     ⋮       ⋮     ⋮   ⋮   \n",
       "224 66  0   3  146      278  0   2       152     0     0       2     1.0 3.0 \n",
       "225 63  1   4  140      187  0   2       144     1     4       1     2.0 7.0 \n",
       "226 63  0   4  124      197  0   0       136     1     0       2     0.0 3.0 \n",
       "    num heart_disease\n",
       "1   0   absent       \n",
       "2   0   absent       \n",
       "3   0   absent       \n",
       "⋮   ⋮   ⋮            \n",
       "224 0   absent       \n",
       "225 2   presence     \n",
       "226 1   presence     "
      ]
     },
     "metadata": {},
     "output_type": "display_data"
    }
   ],
   "source": [
    "data_training <- initial_split(data_mutated, prop = .75, strata= age)  \n",
    "data_training <- training(data_training)\n",
    "data_training"
   ]
  },
  {
   "cell_type": "code",
   "execution_count": 6,
   "id": "7322efee-2934-4c66-8717-2d9c286363a1",
   "metadata": {},
   "outputs": [
    {
     "data": {
      "image/png": "[encoded data removed]",
      "text/plain": [
       "plot without title"
      ]
     },
     "metadata": {
      "image/png": {
       "height": 420,
       "width": 420
      }
     },
     "output_type": "display_data"
    }
   ],
   "source": [
    "data_plot<- data_training|>\n",
    "    ggplot(aes(x = age, y = chol))+\n",
    "        geom_point() +\n",
    "        xlab(\"Age (in years)\") +\n",
    "        ylab(\"Serum Cholesterol (in mg/dl)\")+\n",
    "        theme(text = element_text(size=20))+\n",
    "ggtitle(\"Serum Cholesterol Present Versus Age\")\n",
    "data_plot"
   ]
  },
  {
   "cell_type": "markdown",
   "id": "7272837b-05c6-4519-84d8-dfafb2729883",
   "metadata": {},
   "source": [
    "<font size=\"4\">**Methods:**</font>\n",
    "<br>\n",
    "<br> We plan to mutate the data so that 0= no heart disease, any other number = heart disease. We will use classification to predict whether or not age, chest pain type, resting blood pressure, cholesterol and maximum heart rate are predictors of heart disease. The variables we will use will be  age (in years), sex: sex (1 = male; 0 = female), painloc: chest pain location (1 = substernal; 0 = otherwise),cp: chest pain type (Value 1: typical angina, Value 2: atypical angina, Value 3: non-anginal pain, Value 4: asymptomatic), trestbps: resting blood pressure (in mm Hg on admission to the hospital), chol: serum cholesterol in mg/dl,smoke: I believe this is 1 = yes; 0 = no (is or is not a smoker), cigs (cigarettes per day), years (number of years as a smoker). We will use the scatterplot to veiw our results.\n"
   ]
  },
  {
   "cell_type": "markdown",
   "id": "ecda62fb-f3d4-4f92-8418-f43960bf4268",
   "metadata": {},
   "source": [
    "<font size=\"4\">**Expected outcomes and significance:**</font>\n",
    "<br>\n",
    "<br> We are expecting to find which variable has the most influence on getting a heart disease.\n",
    "By distinguishing the variable, we can target the specific area and get treatment for it.\n",
    "Narrowing it down to see how a single variable affects the chance of getting heart disease? Does gender affect chances of getting heart disease?"
   ]
  },
  {
   "cell_type": "markdown",
   "id": "1f3aaedb-5d16-479a-8039-ab4b5c36273c",
   "metadata": {},
   "source": [
    "<font size=\"4\">**Reference:**</font>\n",
    "<br>\n",
    "<br> Dua, D. and Graff, C. (2019). UCI Machine Learning Repository [http://archive.ics.uci.edu/ml]. Irvine, CA: University of California, School of Information and Computer Science."
   ]
  },
  {
   "cell_type": "code",
   "execution_count": 7,
   "id": "5d9320ab-1108-4f78-b5cf-9433ef9bf5fa",
   "metadata": {},
   "outputs": [
    {
     "data": {
      "text/html": [
       "<table class=\"dataframe\">\n",
       "<caption>A tibble: 303 × 4</caption>\n",
       "<thead>\n",
       "\t<tr><th scope=col>age</th><th scope=col>cp</th><th scope=col>chol</th><th scope=col>heart_disease</th></tr>\n",
       "\t<tr><th scope=col>&lt;dbl&gt;</th><th scope=col>&lt;dbl&gt;</th><th scope=col>&lt;dbl&gt;</th><th scope=col>&lt;fct&gt;</th></tr>\n",
       "</thead>\n",
       "<tbody>\n",
       "\t<tr><td>63</td><td>1</td><td>233</td><td>absent  </td></tr>\n",
       "\t<tr><td>67</td><td>4</td><td>286</td><td>presence</td></tr>\n",
       "\t<tr><td>67</td><td>4</td><td>229</td><td>presence</td></tr>\n",
       "\t<tr><td>⋮</td><td>⋮</td><td>⋮</td><td>⋮</td></tr>\n",
       "\t<tr><td>57</td><td>4</td><td>131</td><td>presence</td></tr>\n",
       "\t<tr><td>57</td><td>2</td><td>236</td><td>presence</td></tr>\n",
       "\t<tr><td>38</td><td>3</td><td>175</td><td>absent  </td></tr>\n",
       "</tbody>\n",
       "</table>\n"
      ],
      "text/latex": [
       "A tibble: 303 × 4\n",
       "\\begin{tabular}{llll}\n",
       " age & cp & chol & heart\\_disease\\\\\n",
       " <dbl> & <dbl> & <dbl> & <fct>\\\\\n",
       "\\hline\n",
       "\t 63 & 1 & 233 & absent  \\\\\n",
       "\t 67 & 4 & 286 & presence\\\\\n",
       "\t 67 & 4 & 229 & presence\\\\\n",
       "\t ⋮ & ⋮ & ⋮ & ⋮\\\\\n",
       "\t 57 & 4 & 131 & presence\\\\\n",
       "\t 57 & 2 & 236 & presence\\\\\n",
       "\t 38 & 3 & 175 & absent  \\\\\n",
       "\\end{tabular}\n"
      ],
      "text/markdown": [
       "\n",
       "A tibble: 303 × 4\n",
       "\n",
       "| age &lt;dbl&gt; | cp &lt;dbl&gt; | chol &lt;dbl&gt; | heart_disease &lt;fct&gt; |\n",
       "|---|---|---|---|\n",
       "| 63 | 1 | 233 | absent   |\n",
       "| 67 | 4 | 286 | presence |\n",
       "| 67 | 4 | 229 | presence |\n",
       "| ⋮ | ⋮ | ⋮ | ⋮ |\n",
       "| 57 | 4 | 131 | presence |\n",
       "| 57 | 2 | 236 | presence |\n",
       "| 38 | 3 | 175 | absent   |\n",
       "\n"
      ],
      "text/plain": [
       "    age cp chol heart_disease\n",
       "1   63  1  233  absent       \n",
       "2   67  4  286  presence     \n",
       "3   67  4  229  presence     \n",
       "⋮   ⋮   ⋮  ⋮    ⋮            \n",
       "301 57  4  131  presence     \n",
       "302 57  2  236  presence     \n",
       "303 38  3  175  absent       "
      ]
     },
     "metadata": {},
     "output_type": "display_data"
    }
   ],
   "source": [
    "set.seed(1)\n",
    "\n",
    "data_clean<-data_mutated|>\n",
    "select(age,cp,chol,heart_disease)\n",
    "\n",
    "data_clean<- data_clean|>\n",
    "mutate(heart_disease=as_factor(heart_disease))\n",
    "data_clean"
   ]
  },
  {
   "cell_type": "code",
   "execution_count": 8,
   "id": "181cc880-f8a7-4468-a6a6-9a151ac89263",
   "metadata": {},
   "outputs": [],
   "source": [
    "heart_split<-initial_split(data_clean, prop = 0.75, strata=heart_disease)\n",
    "heart_train<-training(heart_split)\n",
    "heart_test<-testing(heart_split)"
   ]
  },
  {
   "cell_type": "code",
   "execution_count": 9,
   "id": "e23b88bb-c483-4a68-a864-58f1b62b592c",
   "metadata": {},
   "outputs": [],
   "source": [
    "heart_recipe<-recipe(heart_disease~age+cp+chol, data=heart_train)|>\n",
    "step_scale(all_predictors())|>\n",
    "step_center(all_predictors())\n",
    "\n",
    "training_vfold<-vfold_cv(heart_train, v=5,strata=heart_disease)"
   ]
  },
  {
   "cell_type": "code",
   "execution_count": 11,
   "id": "5d062f7c-77cc-4262-a651-78858e2ad3dd",
   "metadata": {},
   "outputs": [
    {
     "data": {
      "image/png": "[encoded data removed]",
      "text/plain": [
       "plot without title"
      ]
     },
     "metadata": {
      "image/png": {
       "height": 420,
       "width": 420
      }
     },
     "output_type": "display_data"
    }
   ],
   "source": [
    "#dont know if this is needed but finding best k value\n",
    "set.seed(1)\n",
    "knn_spec<-nearest_neighbor(weight_func = \"rectangular\",neighbors = tune())|>\n",
    "set_engine(\"kknn\")|>\n",
    "set_mode(\"classification\")\n",
    "\n",
    "k=tibble(neighbors=seq(1,100,5))\n",
    "\n",
    "training_workflow<-workflow()|>\n",
    "add_recipe(heart_recipe)|>\n",
    "add_model(knn_spec)|>\n",
    "tune_grid(resamples=training_vfold, grid=k)|>\n",
    "collect_metrics()\n",
    "\n",
    "accuracy<-training_workflow|>\n",
    "filter(.metric==\"accuracy\")\n",
    "\n",
    "cross_val_plot<-accuracy|>\n",
    "ggplot(aes(x=neighbors,y=mean))+\n",
    "geom_point()+\n",
    "geom_line()+\n",
    "labs(x=\"Neighbors\", y=\"Accuracy Estimate\")\n",
    "cross_val_plot\n"
   ]
  },
  {
   "cell_type": "code",
   "execution_count": null,
   "id": "2e34f19f-e359-40f2-bac2-e8fe4194253a",
   "metadata": {},
   "outputs": [],
   "source": []
  },
  {
   "cell_type": "code",
   "execution_count": null,
   "id": "3373d8dd-3c1e-4591-9c3c-b9bbdc4a1791",
   "metadata": {},
   "outputs": [],
   "source": [
    "#this shows our best neighbors at 7-8???"
   ]
  }
 ],
 "metadata": {
  "kernelspec": {
   "display_name": "R",
   "language": "R",
   "name": "ir"
  },
  "language_info": {
   "codemirror_mode": "r",
   "file_extension": ".r",
   "mimetype": "text/x-r-source",
   "name": "R",
   "pygments_lexer": "r",
   "version": "4.1.3"
  }
 },
 "nbformat": 4,
 "nbformat_minor": 5
}
